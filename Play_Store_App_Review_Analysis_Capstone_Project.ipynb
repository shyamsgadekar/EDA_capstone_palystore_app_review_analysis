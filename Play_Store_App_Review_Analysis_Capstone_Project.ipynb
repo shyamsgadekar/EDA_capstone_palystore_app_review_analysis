{
  "nbformat": 4,
  "nbformat_minor": 0,
  "metadata": {
    "kernelspec": {
      "display_name": "Python 3",
      "language": "python",
      "name": "python3"
    },
    "language_info": {
      "codemirror_mode": {
        "name": "ipython",
        "version": 3
      },
      "file_extension": ".py",
      "mimetype": "text/x-python",
      "name": "python",
      "nbconvert_exporter": "python",
      "pygments_lexer": "ipython3",
      "version": "3.6.6"
    },
    "colab": {
      "provenance": [],
      "collapsed_sections": [],
      "include_colab_link": true
    }
  },
  "cells": [
    {
      "cell_type": "markdown",
      "metadata": {
        "id": "view-in-github",
        "colab_type": "text"
      },
      "source": [
        "<a href=\"https://colab.research.google.com/github/shyamsgadekar/EDA_capstone_palystore_app_review_analysis/blob/main/Play_Store_App_Review_Analysis_Capstone_Project.ipynb\" target=\"_parent\"><img src=\"https://colab.research.google.com/assets/colab-badge.svg\" alt=\"Open In Colab\"/></a>"
      ]
    },
    {
      "cell_type": "markdown",
      "metadata": {
        "id": "Y06xIdG26kRF"
      },
      "source": [
        "## <b> The Play Store apps data has enormous potential to drive app-making businesses to success. Actionable insights can be drawn for developers to work on and capture the Android market. </b>\n",
        "\n",
        "## <b> Each app (row) has values for catergory, rating, size, and more. Another dataset contains customer reviews of the android apps.</b>\n",
        "\n",
        "## <b> Explore and analyze the data to discover key factors responsible for app engagement and success. </b>"
      ]
    },
    {
      "cell_type": "markdown",
      "source": [
        "\n",
        "\n",
        "Play store is a marketplace (App) for downloading Android applications for smartphones. Smartphones sells soaring across world. Its very lucrative market for App developers as users are looking for comfort and their needs increaseing like entertainment, games etc. It's important to find out what type of apps people downlaoding before developing an App for users and list that APP on Play Store for downlaoding.\n",
        "\n",
        "**What is a EDA?** Exploratory data analysis (EDA) is used by data scientists to analyze and investigate data sets for patterns, and anomalies (outliers), and form hypotheses based on our understanding of the dataset and summarize their main characteristics, often employing data visualization methods. It is an important step in any Data Analysis or Data Science project. It helps determine how best to manipulate data sources to get the answers you need.\n",
        "\n",
        "EDA involves generating summary statistics for numerical data in the dataset and creating various graphical representations to understand the data better and make it more attractive and appealing.\n",
        "\"The main purpose of EDA is to help look at data before making any assumptions. It can help identify obvious errors, as well as better understand patterns within the data, detect outliers or anomalous events, find interesting relations among the variables\"."
      ],
      "metadata": {
        "id": "2I3wrUVL6gNo"
      }
    },
    {
      "cell_type": "markdown",
      "source": [
        "![play store.jfif](data:image/jpeg;base64,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)"
      ],
      "metadata": {
        "id": "nBl6vNHxtssa"
      }
    },
    {
      "cell_type": "markdown",
      "source": [
        "Mobile Applications are an integral part of our daily lives. As they are easy to create and are lucrative, it becomes essential to do comprehensive analysis of play store app data and understand the demand of users.\n",
        "\n",
        "Thus, in this colab notebook we have tried our level best to do all possible analysis and bring out some insights from the data to devise strategies for growth and retention.\n",
        "\n",
        "The flow of analyzing the dataset will be as follows:\n",
        "\n",
        "1. **Problem Comprehension:** It involves loading the dataset and do a logical analysis of variables.\n",
        "2. **Data Exploration:** Exploring the data using head, tail, info and describe.\n",
        "3. **Data Cleaning:** Looking for and handling NaN/Null/Missing/Duplicate values. Finding the key statistical values to fill up the missing values and making important insights.\n",
        "4. **Data Visualization & Exploratory analysis:** Visualizing the analysis with various graphs such as Histograms, Line chart, Pi chart, Boxplot, Heatmap etc. Getting some conclusion from the given dataset, finding correlation and trends that fulfills the purpose of analysis.\n",
        "5. **Conclusion**"
      ],
      "metadata": {
        "id": "QTJD5vag8Ogh"
      }
    },
    {
      "cell_type": "markdown",
      "source": [
        "#**1. Problem Comprehension -**"
      ],
      "metadata": {
        "id": "TrUlcXGQ1fBq"
      }
    },
    {
      "cell_type": "code",
      "source": [
        "# Let's begin with importing the required libraries.\n",
        "import numpy as np\n",
        "import pandas as pd\n",
        "import seaborn as sns\n",
        "import matplotlib.pyplot as plt\n",
        "%matplotlib inline"
      ],
      "metadata": {
        "id": "cpsf8Ne5_tUg"
      },
      "execution_count": null,
      "outputs": []
    },
    {
      "cell_type": "code",
      "source": [
        "# Mounting google drive.\n",
        "from google.colab import drive\n",
        "drive.mount('/content/drive')"
      ],
      "metadata": {
        "colab": {
          "base_uri": "https://localhost:8080/"
        },
        "id": "Jg_LSvm9Afe2",
        "outputId": "1df1e438-e6c0-4ba8-c7c7-1adc30c8d584"
      },
      "execution_count": null,
      "outputs": [
        {
          "output_type": "stream",
          "name": "stdout",
          "text": [
            "Mounted at /content/drive\n"
          ]
        }
      ]
    },
    {
      "cell_type": "code",
      "source": [
        "# Defining the working path.\n",
        "play_store_data_path = '/content/drive/MyDrive/Colab Notebooks/CAPSTONE PROJECT/1_EDA_CAPSTONE_shyam_gadekar/Copy of Play Store Data.csv'\n",
        "user_reviews_path = '/content/drive/MyDrive/Colab Notebooks/CAPSTONE PROJECT/1_EDA_CAPSTONE_shyam_gadekar/Copy of User Reviews.csv'"
      ],
      "metadata": {
        "id": "AFE5ucqsDY9o"
      },
      "execution_count": null,
      "outputs": []
    },
    {
      "cell_type": "code",
      "source": [
        "# Loading dataframes of both CSV files.\n",
        "play_store_data_df = pd.read_csv(play_store_data_path)\n",
        "user_reviews_df = pd.read_csv(user_reviews_path)"
      ],
      "metadata": {
        "id": "NGQoDj6gDrhg"
      },
      "execution_count": null,
      "outputs": []
    },
    {
      "cell_type": "markdown",
      "source": [
        "## Description of App Dataset columns\n",
        "1.App : The name of the app<br>\n",
        "2.Category : The category of the app<br>\n",
        "3.Rating : The rating of the app in the Play Store<br>\n",
        "4.Reviews : The number of reviews of the app<br>\n",
        "5.Size : The size of the app<br>\n",
        "6.Install : The number of installs of the app<br>\n",
        "7.Type : The type of the app (Free/Paid)<br>\n",
        "8.The price of the app (0 if it is Free)<br>\n",
        "9.Content Rating :The appropiate target audience of the app<br>\n",
        "10.Genres: The genre of the app<br>\n",
        "11.Last Updated : The date when the app was last updated<br>\n",
        "12.Current Ver : The current version of the app<br>\n",
        "13.Android Ver : The minimum Android version required to run the app\n"
      ],
      "metadata": {
        "id": "EwQzbKmI0nXp"
      }
    },
    {
      "cell_type": "markdown",
      "source": [
        "#B. User Reviews Dataset\n",
        "This dataset contains the result of the sentiment analysis. It has 64,295 rows of data with the following additional attributes:\n",
        "\n",
        "1.App: Name of the applications.\n",
        "\n",
        "2.Translated_Review: Either the original review in English, or a translated version if the orignal review is in another language.\n",
        "\n",
        "Moreover, the text in each review was pre-processed and attributed with three new features.\n",
        "\n",
        "3.Sentiment: The result of the sentiment analysis conducted on a review dataset. The value is either Positive, Neutral, or Negative.\n",
        "\n",
        "4.Sentiment_Polarity: Sentiment polarity is a value indicating the positivity or negativity of the sentiment. It ranges from -1 (most negative) to 1 (most positive).\n",
        "\n",
        "5.Sentiment_Subjectivity: Sentiment Subjectivity is a value ranging from 0 to 1, which indicates the subjectivity of the review. Here, lower values indicate the review which is based on factual information, and higher values indicate the review that is based on personal opinions, public opinions or judgements."
      ],
      "metadata": {
        "id": "p7IUIlhg1oLR"
      }
    },
    {
      "cell_type": "markdown",
      "source": [
        "#**2. Data Exploration :**"
      ],
      "metadata": {
        "id": "ZcIMqnL5J0Fp"
      }
    },
    {
      "cell_type": "markdown",
      "source": [
        "##A. Let's Explore play store dataset"
      ],
      "metadata": {
        "id": "jKSpMG4pa9EV"
      }
    },
    {
      "cell_type": "code",
      "source": [
        "#Looking at the shape of data.\n",
        "play_store_data_df.shape\n"
      ],
      "metadata": {
        "id": "LEsFdmyZK5KA",
        "colab": {
          "base_uri": "https://localhost:8080/"
        },
        "outputId": "969531da-2f75-4f2c-ed16-32fe2c4a99b3"
      },
      "execution_count": null,
      "outputs": [
        {
          "output_type": "execute_result",
          "data": {
            "text/plain": [
              "(10841, 13)"
            ]
          },
          "metadata": {},
          "execution_count": 5
        }
      ]
    },
    {
      "cell_type": "code",
      "source": [
        "# Looking at the columns of data.\n",
        "play_store_data_df.columns\n"
      ],
      "metadata": {
        "colab": {
          "base_uri": "https://localhost:8080/"
        },
        "id": "MwR04kIYMF_K",
        "outputId": "588c2109-da85-41ed-ef59-f971ae3a0efb"
      },
      "execution_count": null,
      "outputs": [
        {
          "output_type": "execute_result",
          "data": {
            "text/plain": [
              "Index(['App', 'Category', 'Rating', 'Reviews', 'Size', 'Installs', 'Type',\n",
              "       'Price', 'Content Rating', 'Genres', 'Last Updated', 'Current Ver',\n",
              "       'Android Ver'],\n",
              "      dtype='object')"
            ]
          },
          "metadata": {},
          "execution_count": 6
        }
      ]
    },
    {
      "cell_type": "code",
      "source": [
        "# Information about data. \n",
        "play_store_data_df.info()"
      ],
      "metadata": {
        "colab": {
          "base_uri": "https://localhost:8080/"
        },
        "id": "eBpyGztwMyvb",
        "outputId": "b68938e4-3736-4a17-9271-3f2c2f364a2c"
      },
      "execution_count": null,
      "outputs": [
        {
          "output_type": "stream",
          "name": "stdout",
          "text": [
            "<class 'pandas.core.frame.DataFrame'>\n",
            "RangeIndex: 10841 entries, 0 to 10840\n",
            "Data columns (total 13 columns):\n",
            " #   Column          Non-Null Count  Dtype  \n",
            "---  ------          --------------  -----  \n",
            " 0   App             10841 non-null  object \n",
            " 1   Category        10841 non-null  object \n",
            " 2   Rating          9367 non-null   float64\n",
            " 3   Reviews         10841 non-null  object \n",
            " 4   Size            10841 non-null  object \n",
            " 5   Installs        10841 non-null  object \n",
            " 6   Type            10840 non-null  object \n",
            " 7   Price           10841 non-null  object \n",
            " 8   Content Rating  10840 non-null  object \n",
            " 9   Genres          10841 non-null  object \n",
            " 10  Last Updated    10841 non-null  object \n",
            " 11  Current Ver     10833 non-null  object \n",
            " 12  Android Ver     10838 non-null  object \n",
            "dtypes: float64(1), object(12)\n",
            "memory usage: 1.1+ MB\n"
          ]
        }
      ]
    },
    {
      "cell_type": "code",
      "source": [
        "# To get first 10 rows of data.\n",
        "play_store_data_df.head(10)"
      ],
      "metadata": {
        "colab": {
          "base_uri": "https://localhost:8080/",
          "height": 999
        },
        "id": "1390fGjtN8x7",
        "outputId": "59b11e32-c663-4b81-c086-ee00f9ec558e"
      },
      "execution_count": null,
      "outputs": [
        {
          "output_type": "execute_result",
          "data": {
            "text/plain": [
              "                                                 App        Category  Rating  \\\n",
              "0     Photo Editor & Candy Camera & Grid & ScrapBook  ART_AND_DESIGN     4.1   \n",
              "1                                Coloring book moana  ART_AND_DESIGN     3.9   \n",
              "2  U Launcher Lite – FREE Live Cool Themes, Hide ...  ART_AND_DESIGN     4.7   \n",
              "3                              Sketch - Draw & Paint  ART_AND_DESIGN     4.5   \n",
              "4              Pixel Draw - Number Art Coloring Book  ART_AND_DESIGN     4.3   \n",
              "5                         Paper flowers instructions  ART_AND_DESIGN     4.4   \n",
              "6            Smoke Effect Photo Maker - Smoke Editor  ART_AND_DESIGN     3.8   \n",
              "7                                   Infinite Painter  ART_AND_DESIGN     4.1   \n",
              "8                               Garden Coloring Book  ART_AND_DESIGN     4.4   \n",
              "9                      Kids Paint Free - Drawing Fun  ART_AND_DESIGN     4.7   \n",
              "\n",
              "  Reviews  Size     Installs  Type Price Content Rating  \\\n",
              "0     159   19M      10,000+  Free     0       Everyone   \n",
              "1     967   14M     500,000+  Free     0       Everyone   \n",
              "2   87510  8.7M   5,000,000+  Free     0       Everyone   \n",
              "3  215644   25M  50,000,000+  Free     0           Teen   \n",
              "4     967  2.8M     100,000+  Free     0       Everyone   \n",
              "5     167  5.6M      50,000+  Free     0       Everyone   \n",
              "6     178   19M      50,000+  Free     0       Everyone   \n",
              "7   36815   29M   1,000,000+  Free     0       Everyone   \n",
              "8   13791   33M   1,000,000+  Free     0       Everyone   \n",
              "9     121  3.1M      10,000+  Free     0       Everyone   \n",
              "\n",
              "                      Genres        Last Updated         Current Ver  \\\n",
              "0               Art & Design     January 7, 2018               1.0.0   \n",
              "1  Art & Design;Pretend Play    January 15, 2018               2.0.0   \n",
              "2               Art & Design      August 1, 2018               1.2.4   \n",
              "3               Art & Design        June 8, 2018  Varies with device   \n",
              "4    Art & Design;Creativity       June 20, 2018                 1.1   \n",
              "5               Art & Design      March 26, 2017                 1.0   \n",
              "6               Art & Design      April 26, 2018                 1.1   \n",
              "7               Art & Design       June 14, 2018            6.1.61.1   \n",
              "8               Art & Design  September 20, 2017               2.9.2   \n",
              "9    Art & Design;Creativity        July 3, 2018                 2.8   \n",
              "\n",
              "    Android Ver  \n",
              "0  4.0.3 and up  \n",
              "1  4.0.3 and up  \n",
              "2  4.0.3 and up  \n",
              "3    4.2 and up  \n",
              "4    4.4 and up  \n",
              "5    2.3 and up  \n",
              "6  4.0.3 and up  \n",
              "7    4.2 and up  \n",
              "8    3.0 and up  \n",
              "9  4.0.3 and up  "
            ],
            "text/html": [
              "\n",
              "  <div id=\"df-c1d1e352-dbd7-4ded-847d-8f193bd3b12d\">\n",
              "    <div class=\"colab-df-container\">\n",
              "      <div>\n",
              "<style scoped>\n",
              "    .dataframe tbody tr th:only-of-type {\n",
              "        vertical-align: middle;\n",
              "    }\n",
              "\n",
              "    .dataframe tbody tr th {\n",
              "        vertical-align: top;\n",
              "    }\n",
              "\n",
              "    .dataframe thead th {\n",
              "        text-align: right;\n",
              "    }\n",
              "</style>\n",
              "<table border=\"1\" class=\"dataframe\">\n",
              "  <thead>\n",
              "    <tr style=\"text-align: right;\">\n",
              "      <th></th>\n",
              "      <th>App</th>\n",
              "      <th>Category</th>\n",
              "      <th>Rating</th>\n",
              "      <th>Reviews</th>\n",
              "      <th>Size</th>\n",
              "      <th>Installs</th>\n",
              "      <th>Type</th>\n",
              "      <th>Price</th>\n",
              "      <th>Content Rating</th>\n",
              "      <th>Genres</th>\n",
              "      <th>Last Updated</th>\n",
              "      <th>Current Ver</th>\n",
              "      <th>Android Ver</th>\n",
              "    </tr>\n",
              "  </thead>\n",
              "  <tbody>\n",
              "    <tr>\n",
              "      <th>0</th>\n",
              "      <td>Photo Editor &amp; Candy Camera &amp; Grid &amp; ScrapBook</td>\n",
              "      <td>ART_AND_DESIGN</td>\n",
              "      <td>4.1</td>\n",
              "      <td>159</td>\n",
              "      <td>19M</td>\n",
              "      <td>10,000+</td>\n",
              "      <td>Free</td>\n",
              "      <td>0</td>\n",
              "      <td>Everyone</td>\n",
              "      <td>Art &amp; Design</td>\n",
              "      <td>January 7, 2018</td>\n",
              "      <td>1.0.0</td>\n",
              "      <td>4.0.3 and up</td>\n",
              "    </tr>\n",
              "    <tr>\n",
              "      <th>1</th>\n",
              "      <td>Coloring book moana</td>\n",
              "      <td>ART_AND_DESIGN</td>\n",
              "      <td>3.9</td>\n",
              "      <td>967</td>\n",
              "      <td>14M</td>\n",
              "      <td>500,000+</td>\n",
              "      <td>Free</td>\n",
              "      <td>0</td>\n",
              "      <td>Everyone</td>\n",
              "      <td>Art &amp; Design;Pretend Play</td>\n",
              "      <td>January 15, 2018</td>\n",
              "      <td>2.0.0</td>\n",
              "      <td>4.0.3 and up</td>\n",
              "    </tr>\n",
              "    <tr>\n",
              "      <th>2</th>\n",
              "      <td>U Launcher Lite – FREE Live Cool Themes, Hide ...</td>\n",
              "      <td>ART_AND_DESIGN</td>\n",
              "      <td>4.7</td>\n",
              "      <td>87510</td>\n",
              "      <td>8.7M</td>\n",
              "      <td>5,000,000+</td>\n",
              "      <td>Free</td>\n",
              "      <td>0</td>\n",
              "      <td>Everyone</td>\n",
              "      <td>Art &amp; Design</td>\n",
              "      <td>August 1, 2018</td>\n",
              "      <td>1.2.4</td>\n",
              "      <td>4.0.3 and up</td>\n",
              "    </tr>\n",
              "    <tr>\n",
              "      <th>3</th>\n",
              "      <td>Sketch - Draw &amp; Paint</td>\n",
              "      <td>ART_AND_DESIGN</td>\n",
              "      <td>4.5</td>\n",
              "      <td>215644</td>\n",
              "      <td>25M</td>\n",
              "      <td>50,000,000+</td>\n",
              "      <td>Free</td>\n",
              "      <td>0</td>\n",
              "      <td>Teen</td>\n",
              "      <td>Art &amp; Design</td>\n",
              "      <td>June 8, 2018</td>\n",
              "      <td>Varies with device</td>\n",
              "      <td>4.2 and up</td>\n",
              "    </tr>\n",
              "    <tr>\n",
              "      <th>4</th>\n",
              "      <td>Pixel Draw - Number Art Coloring Book</td>\n",
              "      <td>ART_AND_DESIGN</td>\n",
              "      <td>4.3</td>\n",
              "      <td>967</td>\n",
              "      <td>2.8M</td>\n",
              "      <td>100,000+</td>\n",
              "      <td>Free</td>\n",
              "      <td>0</td>\n",
              "      <td>Everyone</td>\n",
              "      <td>Art &amp; Design;Creativity</td>\n",
              "      <td>June 20, 2018</td>\n",
              "      <td>1.1</td>\n",
              "      <td>4.4 and up</td>\n",
              "    </tr>\n",
              "    <tr>\n",
              "      <th>5</th>\n",
              "      <td>Paper flowers instructions</td>\n",
              "      <td>ART_AND_DESIGN</td>\n",
              "      <td>4.4</td>\n",
              "      <td>167</td>\n",
              "      <td>5.6M</td>\n",
              "      <td>50,000+</td>\n",
              "      <td>Free</td>\n",
              "      <td>0</td>\n",
              "      <td>Everyone</td>\n",
              "      <td>Art &amp; Design</td>\n",
              "      <td>March 26, 2017</td>\n",
              "      <td>1.0</td>\n",
              "      <td>2.3 and up</td>\n",
              "    </tr>\n",
              "    <tr>\n",
              "      <th>6</th>\n",
              "      <td>Smoke Effect Photo Maker - Smoke Editor</td>\n",
              "      <td>ART_AND_DESIGN</td>\n",
              "      <td>3.8</td>\n",
              "      <td>178</td>\n",
              "      <td>19M</td>\n",
              "      <td>50,000+</td>\n",
              "      <td>Free</td>\n",
              "      <td>0</td>\n",
              "      <td>Everyone</td>\n",
              "      <td>Art &amp; Design</td>\n",
              "      <td>April 26, 2018</td>\n",
              "      <td>1.1</td>\n",
              "      <td>4.0.3 and up</td>\n",
              "    </tr>\n",
              "    <tr>\n",
              "      <th>7</th>\n",
              "      <td>Infinite Painter</td>\n",
              "      <td>ART_AND_DESIGN</td>\n",
              "      <td>4.1</td>\n",
              "      <td>36815</td>\n",
              "      <td>29M</td>\n",
              "      <td>1,000,000+</td>\n",
              "      <td>Free</td>\n",
              "      <td>0</td>\n",
              "      <td>Everyone</td>\n",
              "      <td>Art &amp; Design</td>\n",
              "      <td>June 14, 2018</td>\n",
              "      <td>6.1.61.1</td>\n",
              "      <td>4.2 and up</td>\n",
              "    </tr>\n",
              "    <tr>\n",
              "      <th>8</th>\n",
              "      <td>Garden Coloring Book</td>\n",
              "      <td>ART_AND_DESIGN</td>\n",
              "      <td>4.4</td>\n",
              "      <td>13791</td>\n",
              "      <td>33M</td>\n",
              "      <td>1,000,000+</td>\n",
              "      <td>Free</td>\n",
              "      <td>0</td>\n",
              "      <td>Everyone</td>\n",
              "      <td>Art &amp; Design</td>\n",
              "      <td>September 20, 2017</td>\n",
              "      <td>2.9.2</td>\n",
              "      <td>3.0 and up</td>\n",
              "    </tr>\n",
              "    <tr>\n",
              "      <th>9</th>\n",
              "      <td>Kids Paint Free - Drawing Fun</td>\n",
              "      <td>ART_AND_DESIGN</td>\n",
              "      <td>4.7</td>\n",
              "      <td>121</td>\n",
              "      <td>3.1M</td>\n",
              "      <td>10,000+</td>\n",
              "      <td>Free</td>\n",
              "      <td>0</td>\n",
              "      <td>Everyone</td>\n",
              "      <td>Art &amp; Design;Creativity</td>\n",
              "      <td>July 3, 2018</td>\n",
              "      <td>2.8</td>\n",
              "      <td>4.0.3 and up</td>\n",
              "    </tr>\n",
              "  </tbody>\n",
              "</table>\n",
              "</div>\n",
              "      <button class=\"colab-df-convert\" onclick=\"convertToInteractive('df-c1d1e352-dbd7-4ded-847d-8f193bd3b12d')\"\n",
              "              title=\"Convert this dataframe to an interactive table.\"\n",
              "              style=\"display:none;\">\n",
              "        \n",
              "  <svg xmlns=\"http://www.w3.org/2000/svg\" height=\"24px\"viewBox=\"0 0 24 24\"\n",
              "       width=\"24px\">\n",
              "    <path d=\"M0 0h24v24H0V0z\" fill=\"none\"/>\n",
              "    <path d=\"M18.56 5.44l.94 2.06.94-2.06 2.06-.94-2.06-.94-.94-2.06-.94 2.06-2.06.94zm-11 1L8.5 8.5l.94-2.06 2.06-.94-2.06-.94L8.5 2.5l-.94 2.06-2.06.94zm10 10l.94 2.06.94-2.06 2.06-.94-2.06-.94-.94-2.06-.94 2.06-2.06.94z\"/><path d=\"M17.41 7.96l-1.37-1.37c-.4-.4-.92-.59-1.43-.59-.52 0-1.04.2-1.43.59L10.3 9.45l-7.72 7.72c-.78.78-.78 2.05 0 2.83L4 21.41c.39.39.9.59 1.41.59.51 0 1.02-.2 1.41-.59l7.78-7.78 2.81-2.81c.8-.78.8-2.07 0-2.86zM5.41 20L4 18.59l7.72-7.72 1.47 1.35L5.41 20z\"/>\n",
              "  </svg>\n",
              "      </button>\n",
              "      \n",
              "  <style>\n",
              "    .colab-df-container {\n",
              "      display:flex;\n",
              "      flex-wrap:wrap;\n",
              "      gap: 12px;\n",
              "    }\n",
              "\n",
              "    .colab-df-convert {\n",
              "      background-color: #E8F0FE;\n",
              "      border: none;\n",
              "      border-radius: 50%;\n",
              "      cursor: pointer;\n",
              "      display: none;\n",
              "      fill: #1967D2;\n",
              "      height: 32px;\n",
              "      padding: 0 0 0 0;\n",
              "      width: 32px;\n",
              "    }\n",
              "\n",
              "    .colab-df-convert:hover {\n",
              "      background-color: #E2EBFA;\n",
              "      box-shadow: 0px 1px 2px rgba(60, 64, 67, 0.3), 0px 1px 3px 1px rgba(60, 64, 67, 0.15);\n",
              "      fill: #174EA6;\n",
              "    }\n",
              "\n",
              "    [theme=dark] .colab-df-convert {\n",
              "      background-color: #3B4455;\n",
              "      fill: #D2E3FC;\n",
              "    }\n",
              "\n",
              "    [theme=dark] .colab-df-convert:hover {\n",
              "      background-color: #434B5C;\n",
              "      box-shadow: 0px 1px 3px 1px rgba(0, 0, 0, 0.15);\n",
              "      filter: drop-shadow(0px 1px 2px rgba(0, 0, 0, 0.3));\n",
              "      fill: #FFFFFF;\n",
              "    }\n",
              "  </style>\n",
              "\n",
              "      <script>\n",
              "        const buttonEl =\n",
              "          document.querySelector('#df-c1d1e352-dbd7-4ded-847d-8f193bd3b12d button.colab-df-convert');\n",
              "        buttonEl.style.display =\n",
              "          google.colab.kernel.accessAllowed ? 'block' : 'none';\n",
              "\n",
              "        async function convertToInteractive(key) {\n",
              "          const element = document.querySelector('#df-c1d1e352-dbd7-4ded-847d-8f193bd3b12d');\n",
              "          const dataTable =\n",
              "            await google.colab.kernel.invokeFunction('convertToInteractive',\n",
              "                                                     [key], {});\n",
              "          if (!dataTable) return;\n",
              "\n",
              "          const docLinkHtml = 'Like what you see? Visit the ' +\n",
              "            '<a target=\"_blank\" href=https://colab.research.google.com/notebooks/data_table.ipynb>data table notebook</a>'\n",
              "            + ' to learn more about interactive tables.';\n",
              "          element.innerHTML = '';\n",
              "          dataTable['output_type'] = 'display_data';\n",
              "          await google.colab.output.renderOutput(dataTable, element);\n",
              "          const docLink = document.createElement('div');\n",
              "          docLink.innerHTML = docLinkHtml;\n",
              "          element.appendChild(docLink);\n",
              "        }\n",
              "      </script>\n",
              "    </div>\n",
              "  </div>\n",
              "  "
            ]
          },
          "metadata": {},
          "execution_count": 8
        }
      ]
    },
    {
      "cell_type": "code",
      "source": [
        "# To get last 10 rows of data.\n",
        "play_store_data_df.tail(10)"
      ],
      "metadata": {
        "colab": {
          "base_uri": "https://localhost:8080/",
          "height": 652
        },
        "id": "DuODPTgVPIv4",
        "outputId": "8df6a019-bb71-4ad9-a8af-c72bb148a739"
      },
      "execution_count": null,
      "outputs": [
        {
          "output_type": "execute_result",
          "data": {
            "text/plain": [
              "                                                 App             Category  \\\n",
              "10831                       payermonstationnement.fr  MAPS_AND_NAVIGATION   \n",
              "10832                                       FR Tides              WEATHER   \n",
              "10833                                    Chemin (fr)  BOOKS_AND_REFERENCE   \n",
              "10834                                  FR Calculator               FAMILY   \n",
              "10835                                       FR Forms             BUSINESS   \n",
              "10836                               Sya9a Maroc - FR               FAMILY   \n",
              "10837               Fr. Mike Schmitz Audio Teachings               FAMILY   \n",
              "10838                         Parkinson Exercices FR              MEDICAL   \n",
              "10839                  The SCP Foundation DB fr nn5n  BOOKS_AND_REFERENCE   \n",
              "10840  iHoroscope - 2018 Daily Horoscope & Astrology            LIFESTYLE   \n",
              "\n",
              "       Rating Reviews                Size     Installs  Type Price  \\\n",
              "10831     NaN      38                9.8M       5,000+  Free     0   \n",
              "10832     3.8    1195                582k     100,000+  Free     0   \n",
              "10833     4.8      44                619k       1,000+  Free     0   \n",
              "10834     4.0       7                2.6M         500+  Free     0   \n",
              "10835     NaN       0                9.6M          10+  Free     0   \n",
              "10836     4.5      38                 53M       5,000+  Free     0   \n",
              "10837     5.0       4                3.6M         100+  Free     0   \n",
              "10838     NaN       3                9.5M       1,000+  Free     0   \n",
              "10839     4.5     114  Varies with device       1,000+  Free     0   \n",
              "10840     4.5  398307                 19M  10,000,000+  Free     0   \n",
              "\n",
              "      Content Rating             Genres        Last Updated  \\\n",
              "10831       Everyone  Maps & Navigation       June 13, 2018   \n",
              "10832       Everyone            Weather   February 16, 2014   \n",
              "10833       Everyone  Books & Reference      March 23, 2014   \n",
              "10834       Everyone          Education       June 18, 2017   \n",
              "10835       Everyone           Business  September 29, 2016   \n",
              "10836       Everyone          Education       July 25, 2017   \n",
              "10837       Everyone          Education        July 6, 2018   \n",
              "10838       Everyone            Medical    January 20, 2017   \n",
              "10839     Mature 17+  Books & Reference    January 19, 2015   \n",
              "10840       Everyone          Lifestyle       July 25, 2018   \n",
              "\n",
              "              Current Ver         Android Ver  \n",
              "10831           2.0.148.0          4.0 and up  \n",
              "10832                 6.0          2.1 and up  \n",
              "10833                 0.8          2.2 and up  \n",
              "10834               1.0.0          4.1 and up  \n",
              "10835               1.1.5          4.0 and up  \n",
              "10836                1.48          4.1 and up  \n",
              "10837                 1.0          4.1 and up  \n",
              "10838                 1.0          2.2 and up  \n",
              "10839  Varies with device  Varies with device  \n",
              "10840  Varies with device  Varies with device  "
            ],
            "text/html": [
              "\n",
              "  <div id=\"df-a2c7a9b2-9b7d-43bf-b0d0-36193a97f97c\">\n",
              "    <div class=\"colab-df-container\">\n",
              "      <div>\n",
              "<style scoped>\n",
              "    .dataframe tbody tr th:only-of-type {\n",
              "        vertical-align: middle;\n",
              "    }\n",
              "\n",
              "    .dataframe tbody tr th {\n",
              "        vertical-align: top;\n",
              "    }\n",
              "\n",
              "    .dataframe thead th {\n",
              "        text-align: right;\n",
              "    }\n",
              "</style>\n",
              "<table border=\"1\" class=\"dataframe\">\n",
              "  <thead>\n",
              "    <tr style=\"text-align: right;\">\n",
              "      <th></th>\n",
              "      <th>App</th>\n",
              "      <th>Category</th>\n",
              "      <th>Rating</th>\n",
              "      <th>Reviews</th>\n",
              "      <th>Size</th>\n",
              "      <th>Installs</th>\n",
              "      <th>Type</th>\n",
              "      <th>Price</th>\n",
              "      <th>Content Rating</th>\n",
              "      <th>Genres</th>\n",
              "      <th>Last Updated</th>\n",
              "      <th>Current Ver</th>\n",
              "      <th>Android Ver</th>\n",
              "    </tr>\n",
              "  </thead>\n",
              "  <tbody>\n",
              "    <tr>\n",
              "      <th>10831</th>\n",
              "      <td>payermonstationnement.fr</td>\n",
              "      <td>MAPS_AND_NAVIGATION</td>\n",
              "      <td>NaN</td>\n",
              "      <td>38</td>\n",
              "      <td>9.8M</td>\n",
              "      <td>5,000+</td>\n",
              "      <td>Free</td>\n",
              "      <td>0</td>\n",
              "      <td>Everyone</td>\n",
              "      <td>Maps &amp; Navigation</td>\n",
              "      <td>June 13, 2018</td>\n",
              "      <td>2.0.148.0</td>\n",
              "      <td>4.0 and up</td>\n",
              "    </tr>\n",
              "    <tr>\n",
              "      <th>10832</th>\n",
              "      <td>FR Tides</td>\n",
              "      <td>WEATHER</td>\n",
              "      <td>3.8</td>\n",
              "      <td>1195</td>\n",
              "      <td>582k</td>\n",
              "      <td>100,000+</td>\n",
              "      <td>Free</td>\n",
              "      <td>0</td>\n",
              "      <td>Everyone</td>\n",
              "      <td>Weather</td>\n",
              "      <td>February 16, 2014</td>\n",
              "      <td>6.0</td>\n",
              "      <td>2.1 and up</td>\n",
              "    </tr>\n",
              "    <tr>\n",
              "      <th>10833</th>\n",
              "      <td>Chemin (fr)</td>\n",
              "      <td>BOOKS_AND_REFERENCE</td>\n",
              "      <td>4.8</td>\n",
              "      <td>44</td>\n",
              "      <td>619k</td>\n",
              "      <td>1,000+</td>\n",
              "      <td>Free</td>\n",
              "      <td>0</td>\n",
              "      <td>Everyone</td>\n",
              "      <td>Books &amp; Reference</td>\n",
              "      <td>March 23, 2014</td>\n",
              "      <td>0.8</td>\n",
              "      <td>2.2 and up</td>\n",
              "    </tr>\n",
              "    <tr>\n",
              "      <th>10834</th>\n",
              "      <td>FR Calculator</td>\n",
              "      <td>FAMILY</td>\n",
              "      <td>4.0</td>\n",
              "      <td>7</td>\n",
              "      <td>2.6M</td>\n",
              "      <td>500+</td>\n",
              "      <td>Free</td>\n",
              "      <td>0</td>\n",
              "      <td>Everyone</td>\n",
              "      <td>Education</td>\n",
              "      <td>June 18, 2017</td>\n",
              "      <td>1.0.0</td>\n",
              "      <td>4.1 and up</td>\n",
              "    </tr>\n",
              "    <tr>\n",
              "      <th>10835</th>\n",
              "      <td>FR Forms</td>\n",
              "      <td>BUSINESS</td>\n",
              "      <td>NaN</td>\n",
              "      <td>0</td>\n",
              "      <td>9.6M</td>\n",
              "      <td>10+</td>\n",
              "      <td>Free</td>\n",
              "      <td>0</td>\n",
              "      <td>Everyone</td>\n",
              "      <td>Business</td>\n",
              "      <td>September 29, 2016</td>\n",
              "      <td>1.1.5</td>\n",
              "      <td>4.0 and up</td>\n",
              "    </tr>\n",
              "    <tr>\n",
              "      <th>10836</th>\n",
              "      <td>Sya9a Maroc - FR</td>\n",
              "      <td>FAMILY</td>\n",
              "      <td>4.5</td>\n",
              "      <td>38</td>\n",
              "      <td>53M</td>\n",
              "      <td>5,000+</td>\n",
              "      <td>Free</td>\n",
              "      <td>0</td>\n",
              "      <td>Everyone</td>\n",
              "      <td>Education</td>\n",
              "      <td>July 25, 2017</td>\n",
              "      <td>1.48</td>\n",
              "      <td>4.1 and up</td>\n",
              "    </tr>\n",
              "    <tr>\n",
              "      <th>10837</th>\n",
              "      <td>Fr. Mike Schmitz Audio Teachings</td>\n",
              "      <td>FAMILY</td>\n",
              "      <td>5.0</td>\n",
              "      <td>4</td>\n",
              "      <td>3.6M</td>\n",
              "      <td>100+</td>\n",
              "      <td>Free</td>\n",
              "      <td>0</td>\n",
              "      <td>Everyone</td>\n",
              "      <td>Education</td>\n",
              "      <td>July 6, 2018</td>\n",
              "      <td>1.0</td>\n",
              "      <td>4.1 and up</td>\n",
              "    </tr>\n",
              "    <tr>\n",
              "      <th>10838</th>\n",
              "      <td>Parkinson Exercices FR</td>\n",
              "      <td>MEDICAL</td>\n",
              "      <td>NaN</td>\n",
              "      <td>3</td>\n",
              "      <td>9.5M</td>\n",
              "      <td>1,000+</td>\n",
              "      <td>Free</td>\n",
              "      <td>0</td>\n",
              "      <td>Everyone</td>\n",
              "      <td>Medical</td>\n",
              "      <td>January 20, 2017</td>\n",
              "      <td>1.0</td>\n",
              "      <td>2.2 and up</td>\n",
              "    </tr>\n",
              "    <tr>\n",
              "      <th>10839</th>\n",
              "      <td>The SCP Foundation DB fr nn5n</td>\n",
              "      <td>BOOKS_AND_REFERENCE</td>\n",
              "      <td>4.5</td>\n",
              "      <td>114</td>\n",
              "      <td>Varies with device</td>\n",
              "      <td>1,000+</td>\n",
              "      <td>Free</td>\n",
              "      <td>0</td>\n",
              "      <td>Mature 17+</td>\n",
              "      <td>Books &amp; Reference</td>\n",
              "      <td>January 19, 2015</td>\n",
              "      <td>Varies with device</td>\n",
              "      <td>Varies with device</td>\n",
              "    </tr>\n",
              "    <tr>\n",
              "      <th>10840</th>\n",
              "      <td>iHoroscope - 2018 Daily Horoscope &amp; Astrology</td>\n",
              "      <td>LIFESTYLE</td>\n",
              "      <td>4.5</td>\n",
              "      <td>398307</td>\n",
              "      <td>19M</td>\n",
              "      <td>10,000,000+</td>\n",
              "      <td>Free</td>\n",
              "      <td>0</td>\n",
              "      <td>Everyone</td>\n",
              "      <td>Lifestyle</td>\n",
              "      <td>July 25, 2018</td>\n",
              "      <td>Varies with device</td>\n",
              "      <td>Varies with device</td>\n",
              "    </tr>\n",
              "  </tbody>\n",
              "</table>\n",
              "</div>\n",
              "      <button class=\"colab-df-convert\" onclick=\"convertToInteractive('df-a2c7a9b2-9b7d-43bf-b0d0-36193a97f97c')\"\n",
              "              title=\"Convert this dataframe to an interactive table.\"\n",
              "              style=\"display:none;\">\n",
              "        \n",
              "  <svg xmlns=\"http://www.w3.org/2000/svg\" height=\"24px\"viewBox=\"0 0 24 24\"\n",
              "       width=\"24px\">\n",
              "    <path d=\"M0 0h24v24H0V0z\" fill=\"none\"/>\n",
              "    <path d=\"M18.56 5.44l.94 2.06.94-2.06 2.06-.94-2.06-.94-.94-2.06-.94 2.06-2.06.94zm-11 1L8.5 8.5l.94-2.06 2.06-.94-2.06-.94L8.5 2.5l-.94 2.06-2.06.94zm10 10l.94 2.06.94-2.06 2.06-.94-2.06-.94-.94-2.06-.94 2.06-2.06.94z\"/><path d=\"M17.41 7.96l-1.37-1.37c-.4-.4-.92-.59-1.43-.59-.52 0-1.04.2-1.43.59L10.3 9.45l-7.72 7.72c-.78.78-.78 2.05 0 2.83L4 21.41c.39.39.9.59 1.41.59.51 0 1.02-.2 1.41-.59l7.78-7.78 2.81-2.81c.8-.78.8-2.07 0-2.86zM5.41 20L4 18.59l7.72-7.72 1.47 1.35L5.41 20z\"/>\n",
              "  </svg>\n",
              "      </button>\n",
              "      \n",
              "  <style>\n",
              "    .colab-df-container {\n",
              "      display:flex;\n",
              "      flex-wrap:wrap;\n",
              "      gap: 12px;\n",
              "    }\n",
              "\n",
              "    .colab-df-convert {\n",
              "      background-color: #E8F0FE;\n",
              "      border: none;\n",
              "      border-radius: 50%;\n",
              "      cursor: pointer;\n",
              "      display: none;\n",
              "      fill: #1967D2;\n",
              "      height: 32px;\n",
              "      padding: 0 0 0 0;\n",
              "      width: 32px;\n",
              "    }\n",
              "\n",
              "    .colab-df-convert:hover {\n",
              "      background-color: #E2EBFA;\n",
              "      box-shadow: 0px 1px 2px rgba(60, 64, 67, 0.3), 0px 1px 3px 1px rgba(60, 64, 67, 0.15);\n",
              "      fill: #174EA6;\n",
              "    }\n",
              "\n",
              "    [theme=dark] .colab-df-convert {\n",
              "      background-color: #3B4455;\n",
              "      fill: #D2E3FC;\n",
              "    }\n",
              "\n",
              "    [theme=dark] .colab-df-convert:hover {\n",
              "      background-color: #434B5C;\n",
              "      box-shadow: 0px 1px 3px 1px rgba(0, 0, 0, 0.15);\n",
              "      filter: drop-shadow(0px 1px 2px rgba(0, 0, 0, 0.3));\n",
              "      fill: #FFFFFF;\n",
              "    }\n",
              "  </style>\n",
              "\n",
              "      <script>\n",
              "        const buttonEl =\n",
              "          document.querySelector('#df-a2c7a9b2-9b7d-43bf-b0d0-36193a97f97c button.colab-df-convert');\n",
              "        buttonEl.style.display =\n",
              "          google.colab.kernel.accessAllowed ? 'block' : 'none';\n",
              "\n",
              "        async function convertToInteractive(key) {\n",
              "          const element = document.querySelector('#df-a2c7a9b2-9b7d-43bf-b0d0-36193a97f97c');\n",
              "          const dataTable =\n",
              "            await google.colab.kernel.invokeFunction('convertToInteractive',\n",
              "                                                     [key], {});\n",
              "          if (!dataTable) return;\n",
              "\n",
              "          const docLinkHtml = 'Like what you see? Visit the ' +\n",
              "            '<a target=\"_blank\" href=https://colab.research.google.com/notebooks/data_table.ipynb>data table notebook</a>'\n",
              "            + ' to learn more about interactive tables.';\n",
              "          element.innerHTML = '';\n",
              "          dataTable['output_type'] = 'display_data';\n",
              "          await google.colab.output.renderOutput(dataTable, element);\n",
              "          const docLink = document.createElement('div');\n",
              "          docLink.innerHTML = docLinkHtml;\n",
              "          element.appendChild(docLink);\n",
              "        }\n",
              "      </script>\n",
              "    </div>\n",
              "  </div>\n",
              "  "
            ]
          },
          "metadata": {},
          "execution_count": 9
        }
      ]
    },
    {
      "cell_type": "code",
      "source": [
        "# To get descriptive summary of all the numerical columns present in dataframe.\n",
        "play_store_data_df.describe()\n"
      ],
      "metadata": {
        "colab": {
          "base_uri": "https://localhost:8080/",
          "height": 300
        },
        "id": "VfT9vI0MPQ2K",
        "outputId": "d8461d4d-8edd-46ca-974e-97680adb9526"
      },
      "execution_count": null,
      "outputs": [
        {
          "output_type": "execute_result",
          "data": {
            "text/plain": [
              "            Rating\n",
              "count  9367.000000\n",
              "mean      4.193338\n",
              "std       0.537431\n",
              "min       1.000000\n",
              "25%       4.000000\n",
              "50%       4.300000\n",
              "75%       4.500000\n",
              "max      19.000000"
            ],
            "text/html": [
              "\n",
              "  <div id=\"df-d7a3313f-e1f8-4560-87da-814d54c9ff67\">\n",
              "    <div class=\"colab-df-container\">\n",
              "      <div>\n",
              "<style scoped>\n",
              "    .dataframe tbody tr th:only-of-type {\n",
              "        vertical-align: middle;\n",
              "    }\n",
              "\n",
              "    .dataframe tbody tr th {\n",
              "        vertical-align: top;\n",
              "    }\n",
              "\n",
              "    .dataframe thead th {\n",
              "        text-align: right;\n",
              "    }\n",
              "</style>\n",
              "<table border=\"1\" class=\"dataframe\">\n",
              "  <thead>\n",
              "    <tr style=\"text-align: right;\">\n",
              "      <th></th>\n",
              "      <th>Rating</th>\n",
              "    </tr>\n",
              "  </thead>\n",
              "  <tbody>\n",
              "    <tr>\n",
              "      <th>count</th>\n",
              "      <td>9367.000000</td>\n",
              "    </tr>\n",
              "    <tr>\n",
              "      <th>mean</th>\n",
              "      <td>4.193338</td>\n",
              "    </tr>\n",
              "    <tr>\n",
              "      <th>std</th>\n",
              "      <td>0.537431</td>\n",
              "    </tr>\n",
              "    <tr>\n",
              "      <th>min</th>\n",
              "      <td>1.000000</td>\n",
              "    </tr>\n",
              "    <tr>\n",
              "      <th>25%</th>\n",
              "      <td>4.000000</td>\n",
              "    </tr>\n",
              "    <tr>\n",
              "      <th>50%</th>\n",
              "      <td>4.300000</td>\n",
              "    </tr>\n",
              "    <tr>\n",
              "      <th>75%</th>\n",
              "      <td>4.500000</td>\n",
              "    </tr>\n",
              "    <tr>\n",
              "      <th>max</th>\n",
              "      <td>19.000000</td>\n",
              "    </tr>\n",
              "  </tbody>\n",
              "</table>\n",
              "</div>\n",
              "      <button class=\"colab-df-convert\" onclick=\"convertToInteractive('df-d7a3313f-e1f8-4560-87da-814d54c9ff67')\"\n",
              "              title=\"Convert this dataframe to an interactive table.\"\n",
              "              style=\"display:none;\">\n",
              "        \n",
              "  <svg xmlns=\"http://www.w3.org/2000/svg\" height=\"24px\"viewBox=\"0 0 24 24\"\n",
              "       width=\"24px\">\n",
              "    <path d=\"M0 0h24v24H0V0z\" fill=\"none\"/>\n",
              "    <path d=\"M18.56 5.44l.94 2.06.94-2.06 2.06-.94-2.06-.94-.94-2.06-.94 2.06-2.06.94zm-11 1L8.5 8.5l.94-2.06 2.06-.94-2.06-.94L8.5 2.5l-.94 2.06-2.06.94zm10 10l.94 2.06.94-2.06 2.06-.94-2.06-.94-.94-2.06-.94 2.06-2.06.94z\"/><path d=\"M17.41 7.96l-1.37-1.37c-.4-.4-.92-.59-1.43-.59-.52 0-1.04.2-1.43.59L10.3 9.45l-7.72 7.72c-.78.78-.78 2.05 0 2.83L4 21.41c.39.39.9.59 1.41.59.51 0 1.02-.2 1.41-.59l7.78-7.78 2.81-2.81c.8-.78.8-2.07 0-2.86zM5.41 20L4 18.59l7.72-7.72 1.47 1.35L5.41 20z\"/>\n",
              "  </svg>\n",
              "      </button>\n",
              "      \n",
              "  <style>\n",
              "    .colab-df-container {\n",
              "      display:flex;\n",
              "      flex-wrap:wrap;\n",
              "      gap: 12px;\n",
              "    }\n",
              "\n",
              "    .colab-df-convert {\n",
              "      background-color: #E8F0FE;\n",
              "      border: none;\n",
              "      border-radius: 50%;\n",
              "      cursor: pointer;\n",
              "      display: none;\n",
              "      fill: #1967D2;\n",
              "      height: 32px;\n",
              "      padding: 0 0 0 0;\n",
              "      width: 32px;\n",
              "    }\n",
              "\n",
              "    .colab-df-convert:hover {\n",
              "      background-color: #E2EBFA;\n",
              "      box-shadow: 0px 1px 2px rgba(60, 64, 67, 0.3), 0px 1px 3px 1px rgba(60, 64, 67, 0.15);\n",
              "      fill: #174EA6;\n",
              "    }\n",
              "\n",
              "    [theme=dark] .colab-df-convert {\n",
              "      background-color: #3B4455;\n",
              "      fill: #D2E3FC;\n",
              "    }\n",
              "\n",
              "    [theme=dark] .colab-df-convert:hover {\n",
              "      background-color: #434B5C;\n",
              "      box-shadow: 0px 1px 3px 1px rgba(0, 0, 0, 0.15);\n",
              "      filter: drop-shadow(0px 1px 2px rgba(0, 0, 0, 0.3));\n",
              "      fill: #FFFFFF;\n",
              "    }\n",
              "  </style>\n",
              "\n",
              "      <script>\n",
              "        const buttonEl =\n",
              "          document.querySelector('#df-d7a3313f-e1f8-4560-87da-814d54c9ff67 button.colab-df-convert');\n",
              "        buttonEl.style.display =\n",
              "          google.colab.kernel.accessAllowed ? 'block' : 'none';\n",
              "\n",
              "        async function convertToInteractive(key) {\n",
              "          const element = document.querySelector('#df-d7a3313f-e1f8-4560-87da-814d54c9ff67');\n",
              "          const dataTable =\n",
              "            await google.colab.kernel.invokeFunction('convertToInteractive',\n",
              "                                                     [key], {});\n",
              "          if (!dataTable) return;\n",
              "\n",
              "          const docLinkHtml = 'Like what you see? Visit the ' +\n",
              "            '<a target=\"_blank\" href=https://colab.research.google.com/notebooks/data_table.ipynb>data table notebook</a>'\n",
              "            + ' to learn more about interactive tables.';\n",
              "          element.innerHTML = '';\n",
              "          dataTable['output_type'] = 'display_data';\n",
              "          await google.colab.output.renderOutput(dataTable, element);\n",
              "          const docLink = document.createElement('div');\n",
              "          docLink.innerHTML = docLinkHtml;\n",
              "          element.appendChild(docLink);\n",
              "        }\n",
              "      </script>\n",
              "    </div>\n",
              "  </div>\n",
              "  "
            ]
          },
          "metadata": {},
          "execution_count": 10
        }
      ]
    },
    {
      "cell_type": "code",
      "source": [
        "# Checking the data type of columns.\n",
        "play_store_data_df.dtypes"
      ],
      "metadata": {
        "colab": {
          "base_uri": "https://localhost:8080/"
        },
        "id": "T7a4tQypPr-L",
        "outputId": "ebafece1-938d-46d1-aecf-8fea7fc91b7c"
      },
      "execution_count": null,
      "outputs": [
        {
          "output_type": "execute_result",
          "data": {
            "text/plain": [
              "App                object\n",
              "Category           object\n",
              "Rating            float64\n",
              "Reviews            object\n",
              "Size               object\n",
              "Installs           object\n",
              "Type               object\n",
              "Price              object\n",
              "Content Rating     object\n",
              "Genres             object\n",
              "Last Updated       object\n",
              "Current Ver        object\n",
              "Android Ver        object\n",
              "dtype: object"
            ]
          },
          "metadata": {},
          "execution_count": 11
        }
      ]
    },
    {
      "cell_type": "markdown",
      "source": [
        "#B.- Let's Expore user reviews dataset"
      ],
      "metadata": {
        "id": "etlKqWaK9BE9"
      }
    },
    {
      "cell_type": "code",
      "source": [],
      "metadata": {
        "id": "b1lqTd0F6gzw"
      },
      "execution_count": null,
      "outputs": []
    },
    {
      "cell_type": "code",
      "source": [
        "# Looking at the shape of data.\n",
        "user_reviews_df.shape"
      ],
      "metadata": {
        "colab": {
          "base_uri": "https://localhost:8080/"
        },
        "id": "uCHK0rTYRXQZ",
        "outputId": "20178057-ab11-4f38-a5c6-a49fbf4a0833"
      },
      "execution_count": null,
      "outputs": [
        {
          "output_type": "execute_result",
          "data": {
            "text/plain": [
              "(64295, 5)"
            ]
          },
          "metadata": {},
          "execution_count": 12
        }
      ]
    },
    {
      "cell_type": "code",
      "source": [
        "# Looking at the columns of data.\n",
        "user_reviews_df.columns"
      ],
      "metadata": {
        "colab": {
          "base_uri": "https://localhost:8080/"
        },
        "id": "6mS9Ins9Rfdh",
        "outputId": "6192d254-07b5-421c-a179-87140a99ca8b"
      },
      "execution_count": null,
      "outputs": [
        {
          "output_type": "execute_result",
          "data": {
            "text/plain": [
              "Index(['App', 'Translated_Review', 'Sentiment', 'Sentiment_Polarity',\n",
              "       'Sentiment_Subjectivity'],\n",
              "      dtype='object')"
            ]
          },
          "metadata": {},
          "execution_count": 13
        }
      ]
    },
    {
      "cell_type": "code",
      "source": [
        "# Information about data. \n",
        "user_reviews_df.info()"
      ],
      "metadata": {
        "colab": {
          "base_uri": "https://localhost:8080/"
        },
        "id": "Qym60JQ7RfUB",
        "outputId": "bf2e82bb-e271-4139-a259-79e31ab45f03"
      },
      "execution_count": null,
      "outputs": [
        {
          "output_type": "stream",
          "name": "stdout",
          "text": [
            "<class 'pandas.core.frame.DataFrame'>\n",
            "RangeIndex: 64295 entries, 0 to 64294\n",
            "Data columns (total 5 columns):\n",
            " #   Column                  Non-Null Count  Dtype  \n",
            "---  ------                  --------------  -----  \n",
            " 0   App                     64295 non-null  object \n",
            " 1   Translated_Review       37427 non-null  object \n",
            " 2   Sentiment               37432 non-null  object \n",
            " 3   Sentiment_Polarity      37432 non-null  float64\n",
            " 4   Sentiment_Subjectivity  37432 non-null  float64\n",
            "dtypes: float64(2), object(3)\n",
            "memory usage: 2.5+ MB\n"
          ]
        }
      ]
    },
    {
      "cell_type": "code",
      "source": [
        "# To get first 10 rows of data.\n",
        "user_reviews_df.head(10)"
      ],
      "metadata": {
        "colab": {
          "base_uri": "https://localhost:8080/",
          "height": 1000
        },
        "id": "9-tECyXXRfLh",
        "outputId": "3437974a-d2ee-4aac-ad93-54ae2007ac32"
      },
      "execution_count": null,
      "outputs": [
        {
          "output_type": "execute_result",
          "data": {
            "text/plain": [
              "                     App                                  Translated_Review  \\\n",
              "0  10 Best Foods for You  I like eat delicious food. That's I'm cooking ...   \n",
              "1  10 Best Foods for You    This help eating healthy exercise regular basis   \n",
              "2  10 Best Foods for You                                                NaN   \n",
              "3  10 Best Foods for You         Works great especially going grocery store   \n",
              "4  10 Best Foods for You                                       Best idea us   \n",
              "5  10 Best Foods for You                                           Best way   \n",
              "6  10 Best Foods for You                                            Amazing   \n",
              "7  10 Best Foods for You                                                NaN   \n",
              "8  10 Best Foods for You                               Looking forward app,   \n",
              "9  10 Best Foods for You              It helpful site ! It help foods get !   \n",
              "\n",
              "  Sentiment  Sentiment_Polarity  Sentiment_Subjectivity  \n",
              "0  Positive                1.00                0.533333  \n",
              "1  Positive                0.25                0.288462  \n",
              "2       NaN                 NaN                     NaN  \n",
              "3  Positive                0.40                0.875000  \n",
              "4  Positive                1.00                0.300000  \n",
              "5  Positive                1.00                0.300000  \n",
              "6  Positive                0.60                0.900000  \n",
              "7       NaN                 NaN                     NaN  \n",
              "8   Neutral                0.00                0.000000  \n",
              "9   Neutral                0.00                0.000000  "
            ],
            "text/html": [
              "\n",
              "  <div id=\"df-55419d73-977f-4dd7-abca-38e44b31df99\">\n",
              "    <div class=\"colab-df-container\">\n",
              "      <div>\n",
              "<style scoped>\n",
              "    .dataframe tbody tr th:only-of-type {\n",
              "        vertical-align: middle;\n",
              "    }\n",
              "\n",
              "    .dataframe tbody tr th {\n",
              "        vertical-align: top;\n",
              "    }\n",
              "\n",
              "    .dataframe thead th {\n",
              "        text-align: right;\n",
              "    }\n",
              "</style>\n",
              "<table border=\"1\" class=\"dataframe\">\n",
              "  <thead>\n",
              "    <tr style=\"text-align: right;\">\n",
              "      <th></th>\n",
              "      <th>App</th>\n",
              "      <th>Translated_Review</th>\n",
              "      <th>Sentiment</th>\n",
              "      <th>Sentiment_Polarity</th>\n",
              "      <th>Sentiment_Subjectivity</th>\n",
              "    </tr>\n",
              "  </thead>\n",
              "  <tbody>\n",
              "    <tr>\n",
              "      <th>0</th>\n",
              "      <td>10 Best Foods for You</td>\n",
              "      <td>I like eat delicious food. That's I'm cooking ...</td>\n",
              "      <td>Positive</td>\n",
              "      <td>1.00</td>\n",
              "      <td>0.533333</td>\n",
              "    </tr>\n",
              "    <tr>\n",
              "      <th>1</th>\n",
              "      <td>10 Best Foods for You</td>\n",
              "      <td>This help eating healthy exercise regular basis</td>\n",
              "      <td>Positive</td>\n",
              "      <td>0.25</td>\n",
              "      <td>0.288462</td>\n",
              "    </tr>\n",
              "    <tr>\n",
              "      <th>2</th>\n",
              "      <td>10 Best Foods for You</td>\n",
              "      <td>NaN</td>\n",
              "      <td>NaN</td>\n",
              "      <td>NaN</td>\n",
              "      <td>NaN</td>\n",
              "    </tr>\n",
              "    <tr>\n",
              "      <th>3</th>\n",
              "      <td>10 Best Foods for You</td>\n",
              "      <td>Works great especially going grocery store</td>\n",
              "      <td>Positive</td>\n",
              "      <td>0.40</td>\n",
              "      <td>0.875000</td>\n",
              "    </tr>\n",
              "    <tr>\n",
              "      <th>4</th>\n",
              "      <td>10 Best Foods for You</td>\n",
              "      <td>Best idea us</td>\n",
              "      <td>Positive</td>\n",
              "      <td>1.00</td>\n",
              "      <td>0.300000</td>\n",
              "    </tr>\n",
              "    <tr>\n",
              "      <th>5</th>\n",
              "      <td>10 Best Foods for You</td>\n",
              "      <td>Best way</td>\n",
              "      <td>Positive</td>\n",
              "      <td>1.00</td>\n",
              "      <td>0.300000</td>\n",
              "    </tr>\n",
              "    <tr>\n",
              "      <th>6</th>\n",
              "      <td>10 Best Foods for You</td>\n",
              "      <td>Amazing</td>\n",
              "      <td>Positive</td>\n",
              "      <td>0.60</td>\n",
              "      <td>0.900000</td>\n",
              "    </tr>\n",
              "    <tr>\n",
              "      <th>7</th>\n",
              "      <td>10 Best Foods for You</td>\n",
              "      <td>NaN</td>\n",
              "      <td>NaN</td>\n",
              "      <td>NaN</td>\n",
              "      <td>NaN</td>\n",
              "    </tr>\n",
              "    <tr>\n",
              "      <th>8</th>\n",
              "      <td>10 Best Foods for You</td>\n",
              "      <td>Looking forward app,</td>\n",
              "      <td>Neutral</td>\n",
              "      <td>0.00</td>\n",
              "      <td>0.000000</td>\n",
              "    </tr>\n",
              "    <tr>\n",
              "      <th>9</th>\n",
              "      <td>10 Best Foods for You</td>\n",
              "      <td>It helpful site ! It help foods get !</td>\n",
              "      <td>Neutral</td>\n",
              "      <td>0.00</td>\n",
              "      <td>0.000000</td>\n",
              "    </tr>\n",
              "  </tbody>\n",
              "</table>\n",
              "</div>\n",
              "      <button class=\"colab-df-convert\" onclick=\"convertToInteractive('df-55419d73-977f-4dd7-abca-38e44b31df99')\"\n",
              "              title=\"Convert this dataframe to an interactive table.\"\n",
              "              style=\"display:none;\">\n",
              "        \n",
              "  <svg xmlns=\"http://www.w3.org/2000/svg\" height=\"24px\"viewBox=\"0 0 24 24\"\n",
              "       width=\"24px\">\n",
              "    <path d=\"M0 0h24v24H0V0z\" fill=\"none\"/>\n",
              "    <path d=\"M18.56 5.44l.94 2.06.94-2.06 2.06-.94-2.06-.94-.94-2.06-.94 2.06-2.06.94zm-11 1L8.5 8.5l.94-2.06 2.06-.94-2.06-.94L8.5 2.5l-.94 2.06-2.06.94zm10 10l.94 2.06.94-2.06 2.06-.94-2.06-.94-.94-2.06-.94 2.06-2.06.94z\"/><path d=\"M17.41 7.96l-1.37-1.37c-.4-.4-.92-.59-1.43-.59-.52 0-1.04.2-1.43.59L10.3 9.45l-7.72 7.72c-.78.78-.78 2.05 0 2.83L4 21.41c.39.39.9.59 1.41.59.51 0 1.02-.2 1.41-.59l7.78-7.78 2.81-2.81c.8-.78.8-2.07 0-2.86zM5.41 20L4 18.59l7.72-7.72 1.47 1.35L5.41 20z\"/>\n",
              "  </svg>\n",
              "      </button>\n",
              "      \n",
              "  <style>\n",
              "    .colab-df-container {\n",
              "      display:flex;\n",
              "      flex-wrap:wrap;\n",
              "      gap: 12px;\n",
              "    }\n",
              "\n",
              "    .colab-df-convert {\n",
              "      background-color: #E8F0FE;\n",
              "      border: none;\n",
              "      border-radius: 50%;\n",
              "      cursor: pointer;\n",
              "      display: none;\n",
              "      fill: #1967D2;\n",
              "      height: 32px;\n",
              "      padding: 0 0 0 0;\n",
              "      width: 32px;\n",
              "    }\n",
              "\n",
              "    .colab-df-convert:hover {\n",
              "      background-color: #E2EBFA;\n",
              "      box-shadow: 0px 1px 2px rgba(60, 64, 67, 0.3), 0px 1px 3px 1px rgba(60, 64, 67, 0.15);\n",
              "      fill: #174EA6;\n",
              "    }\n",
              "\n",
              "    [theme=dark] .colab-df-convert {\n",
              "      background-color: #3B4455;\n",
              "      fill: #D2E3FC;\n",
              "    }\n",
              "\n",
              "    [theme=dark] .colab-df-convert:hover {\n",
              "      background-color: #434B5C;\n",
              "      box-shadow: 0px 1px 3px 1px rgba(0, 0, 0, 0.15);\n",
              "      filter: drop-shadow(0px 1px 2px rgba(0, 0, 0, 0.3));\n",
              "      fill: #FFFFFF;\n",
              "    }\n",
              "  </style>\n",
              "\n",
              "      <script>\n",
              "        const buttonEl =\n",
              "          document.querySelector('#df-55419d73-977f-4dd7-abca-38e44b31df99 button.colab-df-convert');\n",
              "        buttonEl.style.display =\n",
              "          google.colab.kernel.accessAllowed ? 'block' : 'none';\n",
              "\n",
              "        async function convertToInteractive(key) {\n",
              "          const element = document.querySelector('#df-55419d73-977f-4dd7-abca-38e44b31df99');\n",
              "          const dataTable =\n",
              "            await google.colab.kernel.invokeFunction('convertToInteractive',\n",
              "                                                     [key], {});\n",
              "          if (!dataTable) return;\n",
              "\n",
              "          const docLinkHtml = 'Like what you see? Visit the ' +\n",
              "            '<a target=\"_blank\" href=https://colab.research.google.com/notebooks/data_table.ipynb>data table notebook</a>'\n",
              "            + ' to learn more about interactive tables.';\n",
              "          element.innerHTML = '';\n",
              "          dataTable['output_type'] = 'display_data';\n",
              "          await google.colab.output.renderOutput(dataTable, element);\n",
              "          const docLink = document.createElement('div');\n",
              "          docLink.innerHTML = docLinkHtml;\n",
              "          element.appendChild(docLink);\n",
              "        }\n",
              "      </script>\n",
              "    </div>\n",
              "  </div>\n",
              "  "
            ]
          },
          "metadata": {},
          "execution_count": 15
        }
      ]
    },
    {
      "cell_type": "code",
      "source": [
        "# To get last 10 rows of data.\n",
        "user_reviews_df.tail(10)"
      ],
      "metadata": {
        "colab": {
          "base_uri": "https://localhost:8080/",
          "height": 947
        },
        "id": "YcRI9ItyRe-S",
        "outputId": "20c00e73-669f-4a86-83ce-1704d921a7fc"
      },
      "execution_count": null,
      "outputs": [
        {
          "output_type": "execute_result",
          "data": {
            "text/plain": [
              "                               App Translated_Review Sentiment  \\\n",
              "64285  Houzz Interior Design Ideas               NaN       NaN   \n",
              "64286  Houzz Interior Design Ideas               NaN       NaN   \n",
              "64287  Houzz Interior Design Ideas               NaN       NaN   \n",
              "64288  Houzz Interior Design Ideas               NaN       NaN   \n",
              "64289  Houzz Interior Design Ideas               NaN       NaN   \n",
              "64290  Houzz Interior Design Ideas               NaN       NaN   \n",
              "64291  Houzz Interior Design Ideas               NaN       NaN   \n",
              "64292  Houzz Interior Design Ideas               NaN       NaN   \n",
              "64293  Houzz Interior Design Ideas               NaN       NaN   \n",
              "64294  Houzz Interior Design Ideas               NaN       NaN   \n",
              "\n",
              "       Sentiment_Polarity  Sentiment_Subjectivity  \n",
              "64285                 NaN                     NaN  \n",
              "64286                 NaN                     NaN  \n",
              "64287                 NaN                     NaN  \n",
              "64288                 NaN                     NaN  \n",
              "64289                 NaN                     NaN  \n",
              "64290                 NaN                     NaN  \n",
              "64291                 NaN                     NaN  \n",
              "64292                 NaN                     NaN  \n",
              "64293                 NaN                     NaN  \n",
              "64294                 NaN                     NaN  "
            ],
            "text/html": [
              "\n",
              "  <div id=\"df-983d7c53-7e4d-4ac2-b1b7-ed68f725f9a4\">\n",
              "    <div class=\"colab-df-container\">\n",
              "      <div>\n",
              "<style scoped>\n",
              "    .dataframe tbody tr th:only-of-type {\n",
              "        vertical-align: middle;\n",
              "    }\n",
              "\n",
              "    .dataframe tbody tr th {\n",
              "        vertical-align: top;\n",
              "    }\n",
              "\n",
              "    .dataframe thead th {\n",
              "        text-align: right;\n",
              "    }\n",
              "</style>\n",
              "<table border=\"1\" class=\"dataframe\">\n",
              "  <thead>\n",
              "    <tr style=\"text-align: right;\">\n",
              "      <th></th>\n",
              "      <th>App</th>\n",
              "      <th>Translated_Review</th>\n",
              "      <th>Sentiment</th>\n",
              "      <th>Sentiment_Polarity</th>\n",
              "      <th>Sentiment_Subjectivity</th>\n",
              "    </tr>\n",
              "  </thead>\n",
              "  <tbody>\n",
              "    <tr>\n",
              "      <th>64285</th>\n",
              "      <td>Houzz Interior Design Ideas</td>\n",
              "      <td>NaN</td>\n",
              "      <td>NaN</td>\n",
              "      <td>NaN</td>\n",
              "      <td>NaN</td>\n",
              "    </tr>\n",
              "    <tr>\n",
              "      <th>64286</th>\n",
              "      <td>Houzz Interior Design Ideas</td>\n",
              "      <td>NaN</td>\n",
              "      <td>NaN</td>\n",
              "      <td>NaN</td>\n",
              "      <td>NaN</td>\n",
              "    </tr>\n",
              "    <tr>\n",
              "      <th>64287</th>\n",
              "      <td>Houzz Interior Design Ideas</td>\n",
              "      <td>NaN</td>\n",
              "      <td>NaN</td>\n",
              "      <td>NaN</td>\n",
              "      <td>NaN</td>\n",
              "    </tr>\n",
              "    <tr>\n",
              "      <th>64288</th>\n",
              "      <td>Houzz Interior Design Ideas</td>\n",
              "      <td>NaN</td>\n",
              "      <td>NaN</td>\n",
              "      <td>NaN</td>\n",
              "      <td>NaN</td>\n",
              "    </tr>\n",
              "    <tr>\n",
              "      <th>64289</th>\n",
              "      <td>Houzz Interior Design Ideas</td>\n",
              "      <td>NaN</td>\n",
              "      <td>NaN</td>\n",
              "      <td>NaN</td>\n",
              "      <td>NaN</td>\n",
              "    </tr>\n",
              "    <tr>\n",
              "      <th>64290</th>\n",
              "      <td>Houzz Interior Design Ideas</td>\n",
              "      <td>NaN</td>\n",
              "      <td>NaN</td>\n",
              "      <td>NaN</td>\n",
              "      <td>NaN</td>\n",
              "    </tr>\n",
              "    <tr>\n",
              "      <th>64291</th>\n",
              "      <td>Houzz Interior Design Ideas</td>\n",
              "      <td>NaN</td>\n",
              "      <td>NaN</td>\n",
              "      <td>NaN</td>\n",
              "      <td>NaN</td>\n",
              "    </tr>\n",
              "    <tr>\n",
              "      <th>64292</th>\n",
              "      <td>Houzz Interior Design Ideas</td>\n",
              "      <td>NaN</td>\n",
              "      <td>NaN</td>\n",
              "      <td>NaN</td>\n",
              "      <td>NaN</td>\n",
              "    </tr>\n",
              "    <tr>\n",
              "      <th>64293</th>\n",
              "      <td>Houzz Interior Design Ideas</td>\n",
              "      <td>NaN</td>\n",
              "      <td>NaN</td>\n",
              "      <td>NaN</td>\n",
              "      <td>NaN</td>\n",
              "    </tr>\n",
              "    <tr>\n",
              "      <th>64294</th>\n",
              "      <td>Houzz Interior Design Ideas</td>\n",
              "      <td>NaN</td>\n",
              "      <td>NaN</td>\n",
              "      <td>NaN</td>\n",
              "      <td>NaN</td>\n",
              "    </tr>\n",
              "  </tbody>\n",
              "</table>\n",
              "</div>\n",
              "      <button class=\"colab-df-convert\" onclick=\"convertToInteractive('df-983d7c53-7e4d-4ac2-b1b7-ed68f725f9a4')\"\n",
              "              title=\"Convert this dataframe to an interactive table.\"\n",
              "              style=\"display:none;\">\n",
              "        \n",
              "  <svg xmlns=\"http://www.w3.org/2000/svg\" height=\"24px\"viewBox=\"0 0 24 24\"\n",
              "       width=\"24px\">\n",
              "    <path d=\"M0 0h24v24H0V0z\" fill=\"none\"/>\n",
              "    <path d=\"M18.56 5.44l.94 2.06.94-2.06 2.06-.94-2.06-.94-.94-2.06-.94 2.06-2.06.94zm-11 1L8.5 8.5l.94-2.06 2.06-.94-2.06-.94L8.5 2.5l-.94 2.06-2.06.94zm10 10l.94 2.06.94-2.06 2.06-.94-2.06-.94-.94-2.06-.94 2.06-2.06.94z\"/><path d=\"M17.41 7.96l-1.37-1.37c-.4-.4-.92-.59-1.43-.59-.52 0-1.04.2-1.43.59L10.3 9.45l-7.72 7.72c-.78.78-.78 2.05 0 2.83L4 21.41c.39.39.9.59 1.41.59.51 0 1.02-.2 1.41-.59l7.78-7.78 2.81-2.81c.8-.78.8-2.07 0-2.86zM5.41 20L4 18.59l7.72-7.72 1.47 1.35L5.41 20z\"/>\n",
              "  </svg>\n",
              "      </button>\n",
              "      \n",
              "  <style>\n",
              "    .colab-df-container {\n",
              "      display:flex;\n",
              "      flex-wrap:wrap;\n",
              "      gap: 12px;\n",
              "    }\n",
              "\n",
              "    .colab-df-convert {\n",
              "      background-color: #E8F0FE;\n",
              "      border: none;\n",
              "      border-radius: 50%;\n",
              "      cursor: pointer;\n",
              "      display: none;\n",
              "      fill: #1967D2;\n",
              "      height: 32px;\n",
              "      padding: 0 0 0 0;\n",
              "      width: 32px;\n",
              "    }\n",
              "\n",
              "    .colab-df-convert:hover {\n",
              "      background-color: #E2EBFA;\n",
              "      box-shadow: 0px 1px 2px rgba(60, 64, 67, 0.3), 0px 1px 3px 1px rgba(60, 64, 67, 0.15);\n",
              "      fill: #174EA6;\n",
              "    }\n",
              "\n",
              "    [theme=dark] .colab-df-convert {\n",
              "      background-color: #3B4455;\n",
              "      fill: #D2E3FC;\n",
              "    }\n",
              "\n",
              "    [theme=dark] .colab-df-convert:hover {\n",
              "      background-color: #434B5C;\n",
              "      box-shadow: 0px 1px 3px 1px rgba(0, 0, 0, 0.15);\n",
              "      filter: drop-shadow(0px 1px 2px rgba(0, 0, 0, 0.3));\n",
              "      fill: #FFFFFF;\n",
              "    }\n",
              "  </style>\n",
              "\n",
              "      <script>\n",
              "        const buttonEl =\n",
              "          document.querySelector('#df-983d7c53-7e4d-4ac2-b1b7-ed68f725f9a4 button.colab-df-convert');\n",
              "        buttonEl.style.display =\n",
              "          google.colab.kernel.accessAllowed ? 'block' : 'none';\n",
              "\n",
              "        async function convertToInteractive(key) {\n",
              "          const element = document.querySelector('#df-983d7c53-7e4d-4ac2-b1b7-ed68f725f9a4');\n",
              "          const dataTable =\n",
              "            await google.colab.kernel.invokeFunction('convertToInteractive',\n",
              "                                                     [key], {});\n",
              "          if (!dataTable) return;\n",
              "\n",
              "          const docLinkHtml = 'Like what you see? Visit the ' +\n",
              "            '<a target=\"_blank\" href=https://colab.research.google.com/notebooks/data_table.ipynb>data table notebook</a>'\n",
              "            + ' to learn more about interactive tables.';\n",
              "          element.innerHTML = '';\n",
              "          dataTable['output_type'] = 'display_data';\n",
              "          await google.colab.output.renderOutput(dataTable, element);\n",
              "          const docLink = document.createElement('div');\n",
              "          docLink.innerHTML = docLinkHtml;\n",
              "          element.appendChild(docLink);\n",
              "        }\n",
              "      </script>\n",
              "    </div>\n",
              "  </div>\n",
              "  "
            ]
          },
          "metadata": {},
          "execution_count": 16
        }
      ]
    },
    {
      "cell_type": "code",
      "source": [
        "# To get descriptive summary of all the numerical columns present in dataframe.\n",
        "user_reviews_df.describe()"
      ],
      "metadata": {
        "colab": {
          "base_uri": "https://localhost:8080/",
          "height": 300
        },
        "id": "EprLJvebReqh",
        "outputId": "fca8cb42-d2e1-4d27-c470-feb51eeed154"
      },
      "execution_count": null,
      "outputs": [
        {
          "output_type": "execute_result",
          "data": {
            "text/plain": [
              "       Sentiment_Polarity  Sentiment_Subjectivity\n",
              "count        37432.000000            37432.000000\n",
              "mean             0.182146                0.492704\n",
              "std              0.351301                0.259949\n",
              "min             -1.000000                0.000000\n",
              "25%              0.000000                0.357143\n",
              "50%              0.150000                0.514286\n",
              "75%              0.400000                0.650000\n",
              "max              1.000000                1.000000"
            ],
            "text/html": [
              "\n",
              "  <div id=\"df-25e3476c-3fcf-43d6-96b7-a40507ae6cbe\">\n",
              "    <div class=\"colab-df-container\">\n",
              "      <div>\n",
              "<style scoped>\n",
              "    .dataframe tbody tr th:only-of-type {\n",
              "        vertical-align: middle;\n",
              "    }\n",
              "\n",
              "    .dataframe tbody tr th {\n",
              "        vertical-align: top;\n",
              "    }\n",
              "\n",
              "    .dataframe thead th {\n",
              "        text-align: right;\n",
              "    }\n",
              "</style>\n",
              "<table border=\"1\" class=\"dataframe\">\n",
              "  <thead>\n",
              "    <tr style=\"text-align: right;\">\n",
              "      <th></th>\n",
              "      <th>Sentiment_Polarity</th>\n",
              "      <th>Sentiment_Subjectivity</th>\n",
              "    </tr>\n",
              "  </thead>\n",
              "  <tbody>\n",
              "    <tr>\n",
              "      <th>count</th>\n",
              "      <td>37432.000000</td>\n",
              "      <td>37432.000000</td>\n",
              "    </tr>\n",
              "    <tr>\n",
              "      <th>mean</th>\n",
              "      <td>0.182146</td>\n",
              "      <td>0.492704</td>\n",
              "    </tr>\n",
              "    <tr>\n",
              "      <th>std</th>\n",
              "      <td>0.351301</td>\n",
              "      <td>0.259949</td>\n",
              "    </tr>\n",
              "    <tr>\n",
              "      <th>min</th>\n",
              "      <td>-1.000000</td>\n",
              "      <td>0.000000</td>\n",
              "    </tr>\n",
              "    <tr>\n",
              "      <th>25%</th>\n",
              "      <td>0.000000</td>\n",
              "      <td>0.357143</td>\n",
              "    </tr>\n",
              "    <tr>\n",
              "      <th>50%</th>\n",
              "      <td>0.150000</td>\n",
              "      <td>0.514286</td>\n",
              "    </tr>\n",
              "    <tr>\n",
              "      <th>75%</th>\n",
              "      <td>0.400000</td>\n",
              "      <td>0.650000</td>\n",
              "    </tr>\n",
              "    <tr>\n",
              "      <th>max</th>\n",
              "      <td>1.000000</td>\n",
              "      <td>1.000000</td>\n",
              "    </tr>\n",
              "  </tbody>\n",
              "</table>\n",
              "</div>\n",
              "      <button class=\"colab-df-convert\" onclick=\"convertToInteractive('df-25e3476c-3fcf-43d6-96b7-a40507ae6cbe')\"\n",
              "              title=\"Convert this dataframe to an interactive table.\"\n",
              "              style=\"display:none;\">\n",
              "        \n",
              "  <svg xmlns=\"http://www.w3.org/2000/svg\" height=\"24px\"viewBox=\"0 0 24 24\"\n",
              "       width=\"24px\">\n",
              "    <path d=\"M0 0h24v24H0V0z\" fill=\"none\"/>\n",
              "    <path d=\"M18.56 5.44l.94 2.06.94-2.06 2.06-.94-2.06-.94-.94-2.06-.94 2.06-2.06.94zm-11 1L8.5 8.5l.94-2.06 2.06-.94-2.06-.94L8.5 2.5l-.94 2.06-2.06.94zm10 10l.94 2.06.94-2.06 2.06-.94-2.06-.94-.94-2.06-.94 2.06-2.06.94z\"/><path d=\"M17.41 7.96l-1.37-1.37c-.4-.4-.92-.59-1.43-.59-.52 0-1.04.2-1.43.59L10.3 9.45l-7.72 7.72c-.78.78-.78 2.05 0 2.83L4 21.41c.39.39.9.59 1.41.59.51 0 1.02-.2 1.41-.59l7.78-7.78 2.81-2.81c.8-.78.8-2.07 0-2.86zM5.41 20L4 18.59l7.72-7.72 1.47 1.35L5.41 20z\"/>\n",
              "  </svg>\n",
              "      </button>\n",
              "      \n",
              "  <style>\n",
              "    .colab-df-container {\n",
              "      display:flex;\n",
              "      flex-wrap:wrap;\n",
              "      gap: 12px;\n",
              "    }\n",
              "\n",
              "    .colab-df-convert {\n",
              "      background-color: #E8F0FE;\n",
              "      border: none;\n",
              "      border-radius: 50%;\n",
              "      cursor: pointer;\n",
              "      display: none;\n",
              "      fill: #1967D2;\n",
              "      height: 32px;\n",
              "      padding: 0 0 0 0;\n",
              "      width: 32px;\n",
              "    }\n",
              "\n",
              "    .colab-df-convert:hover {\n",
              "      background-color: #E2EBFA;\n",
              "      box-shadow: 0px 1px 2px rgba(60, 64, 67, 0.3), 0px 1px 3px 1px rgba(60, 64, 67, 0.15);\n",
              "      fill: #174EA6;\n",
              "    }\n",
              "\n",
              "    [theme=dark] .colab-df-convert {\n",
              "      background-color: #3B4455;\n",
              "      fill: #D2E3FC;\n",
              "    }\n",
              "\n",
              "    [theme=dark] .colab-df-convert:hover {\n",
              "      background-color: #434B5C;\n",
              "      box-shadow: 0px 1px 3px 1px rgba(0, 0, 0, 0.15);\n",
              "      filter: drop-shadow(0px 1px 2px rgba(0, 0, 0, 0.3));\n",
              "      fill: #FFFFFF;\n",
              "    }\n",
              "  </style>\n",
              "\n",
              "      <script>\n",
              "        const buttonEl =\n",
              "          document.querySelector('#df-25e3476c-3fcf-43d6-96b7-a40507ae6cbe button.colab-df-convert');\n",
              "        buttonEl.style.display =\n",
              "          google.colab.kernel.accessAllowed ? 'block' : 'none';\n",
              "\n",
              "        async function convertToInteractive(key) {\n",
              "          const element = document.querySelector('#df-25e3476c-3fcf-43d6-96b7-a40507ae6cbe');\n",
              "          const dataTable =\n",
              "            await google.colab.kernel.invokeFunction('convertToInteractive',\n",
              "                                                     [key], {});\n",
              "          if (!dataTable) return;\n",
              "\n",
              "          const docLinkHtml = 'Like what you see? Visit the ' +\n",
              "            '<a target=\"_blank\" href=https://colab.research.google.com/notebooks/data_table.ipynb>data table notebook</a>'\n",
              "            + ' to learn more about interactive tables.';\n",
              "          element.innerHTML = '';\n",
              "          dataTable['output_type'] = 'display_data';\n",
              "          await google.colab.output.renderOutput(dataTable, element);\n",
              "          const docLink = document.createElement('div');\n",
              "          docLink.innerHTML = docLinkHtml;\n",
              "          element.appendChild(docLink);\n",
              "        }\n",
              "      </script>\n",
              "    </div>\n",
              "  </div>\n",
              "  "
            ]
          },
          "metadata": {},
          "execution_count": 17
        }
      ]
    },
    {
      "cell_type": "code",
      "source": [
        "# Checking the data type of columns.\n",
        "user_reviews_df.dtypes"
      ],
      "metadata": {
        "colab": {
          "base_uri": "https://localhost:8080/"
        },
        "id": "GGX_vVL3RyGo",
        "outputId": "d0254a21-ae85-4556-d5a2-eca42b67d11e"
      },
      "execution_count": null,
      "outputs": [
        {
          "output_type": "execute_result",
          "data": {
            "text/plain": [
              "App                        object\n",
              "Translated_Review          object\n",
              "Sentiment                  object\n",
              "Sentiment_Polarity        float64\n",
              "Sentiment_Subjectivity    float64\n",
              "dtype: object"
            ]
          },
          "metadata": {},
          "execution_count": 18
        }
      ]
    },
    {
      "cell_type": "markdown",
      "source": [
        "#3. Data Cleaning"
      ],
      "metadata": {
        "id": "J0Gd46ff7SaN"
      }
    },
    {
      "cell_type": "markdown",
      "source": [
        "A. cleaning the data of play store dataset"
      ],
      "metadata": {
        "id": "PkkrleEm7ao8"
      }
    },
    {
      "cell_type": "markdown",
      "source": [
        "###* Renaming Column Names."
      ],
      "metadata": {
        "id": "B2Igt17IQUT0"
      }
    },
    {
      "cell_type": "code",
      "source": [
        "play_store_data_df.rename(columns={\"Content Rating\":\"Content_Rating\",\"Last Updated\":\"Last_Updated\",\"Current Ver\":\"Current_Ver\",\"Android Ver\":\"Android_Ver\"},inplace=True)"
      ],
      "metadata": {
        "id": "ncPabZbuQh0O"
      },
      "execution_count": null,
      "outputs": []
    },
    {
      "cell_type": "markdown",
      "source": [
        "###* Finding the unique values in columns."
      ],
      "metadata": {
        "id": "qwZR0ltcA14j"
      }
    },
    {
      "cell_type": "code",
      "source": [
        "play_store_data_df.columns"
      ],
      "metadata": {
        "colab": {
          "base_uri": "https://localhost:8080/"
        },
        "id": "KKAuk1onCkoU",
        "outputId": "95244bab-eca8-47b7-ad33-ab4e3749c2b0"
      },
      "execution_count": null,
      "outputs": [
        {
          "output_type": "execute_result",
          "data": {
            "text/plain": [
              "Index(['App', 'Category', 'Rating', 'Reviews', 'Size', 'Installs', 'Type',\n",
              "       'Price', 'Content_Rating', 'Genres', 'Last_Updated', 'Current_Ver',\n",
              "       'Android_Ver'],\n",
              "      dtype='object')"
            ]
          },
          "metadata": {},
          "execution_count": 20
        }
      ]
    },
    {
      "cell_type": "code",
      "source": [
        "play_store_data_df['Category'].unique()"
      ],
      "metadata": {
        "colab": {
          "base_uri": "https://localhost:8080/"
        },
        "id": "NBZtgVrOBGAJ",
        "outputId": "4b272e97-9768-41b8-e786-f6eebb58b7a3"
      },
      "execution_count": null,
      "outputs": [
        {
          "output_type": "execute_result",
          "data": {
            "text/plain": [
              "array(['ART_AND_DESIGN', 'AUTO_AND_VEHICLES', 'BEAUTY',\n",
              "       'BOOKS_AND_REFERENCE', 'BUSINESS', 'COMICS', 'COMMUNICATION',\n",
              "       'DATING', 'EDUCATION', 'ENTERTAINMENT', 'EVENTS', 'FINANCE',\n",
              "       'FOOD_AND_DRINK', 'HEALTH_AND_FITNESS', 'HOUSE_AND_HOME',\n",
              "       'LIBRARIES_AND_DEMO', 'LIFESTYLE', 'GAME', 'FAMILY', 'MEDICAL',\n",
              "       'SOCIAL', 'SHOPPING', 'PHOTOGRAPHY', 'SPORTS', 'TRAVEL_AND_LOCAL',\n",
              "       'TOOLS', 'PERSONALIZATION', 'PRODUCTIVITY', 'PARENTING', 'WEATHER',\n",
              "       'VIDEO_PLAYERS', 'NEWS_AND_MAGAZINES', 'MAPS_AND_NAVIGATION',\n",
              "       '1.9'], dtype=object)"
            ]
          },
          "metadata": {},
          "execution_count": 21
        }
      ]
    },
    {
      "cell_type": "code",
      "source": [
        "play_store_data_df['Rating'].unique()"
      ],
      "metadata": {
        "colab": {
          "base_uri": "https://localhost:8080/"
        },
        "id": "AhCrgsS2BIyo",
        "outputId": "ab72c57b-63f5-4bd5-f89b-b76f8f14d3d3"
      },
      "execution_count": null,
      "outputs": [
        {
          "output_type": "execute_result",
          "data": {
            "text/plain": [
              "array([ 4.1,  3.9,  4.7,  4.5,  4.3,  4.4,  3.8,  4.2,  4.6,  3.2,  4. ,\n",
              "        nan,  4.8,  4.9,  3.6,  3.7,  3.3,  3.4,  3.5,  3.1,  5. ,  2.6,\n",
              "        3. ,  1.9,  2.5,  2.8,  2.7,  1. ,  2.9,  2.3,  2.2,  1.7,  2. ,\n",
              "        1.8,  2.4,  1.6,  2.1,  1.4,  1.5,  1.2, 19. ])"
            ]
          },
          "metadata": {},
          "execution_count": 22
        }
      ]
    },
    {
      "cell_type": "code",
      "source": [
        "play_store_data_df['Size'].unique()"
      ],
      "metadata": {
        "colab": {
          "base_uri": "https://localhost:8080/"
        },
        "id": "775zcFysBIrI",
        "outputId": "ebabc8b8-b140-4781-deab-a9959e657cde"
      },
      "execution_count": null,
      "outputs": [
        {
          "output_type": "execute_result",
          "data": {
            "text/plain": [
              "array(['19M', '14M', '8.7M', '25M', '2.8M', '5.6M', '29M', '33M', '3.1M',\n",
              "       '28M', '12M', '20M', '21M', '37M', '2.7M', '5.5M', '17M', '39M',\n",
              "       '31M', '4.2M', '7.0M', '23M', '6.0M', '6.1M', '4.6M', '9.2M',\n",
              "       '5.2M', '11M', '24M', 'Varies with device', '9.4M', '15M', '10M',\n",
              "       '1.2M', '26M', '8.0M', '7.9M', '56M', '57M', '35M', '54M', '201k',\n",
              "       '3.6M', '5.7M', '8.6M', '2.4M', '27M', '2.5M', '16M', '3.4M',\n",
              "       '8.9M', '3.9M', '2.9M', '38M', '32M', '5.4M', '18M', '1.1M',\n",
              "       '2.2M', '4.5M', '9.8M', '52M', '9.0M', '6.7M', '30M', '2.6M',\n",
              "       '7.1M', '3.7M', '22M', '7.4M', '6.4M', '3.2M', '8.2M', '9.9M',\n",
              "       '4.9M', '9.5M', '5.0M', '5.9M', '13M', '73M', '6.8M', '3.5M',\n",
              "       '4.0M', '2.3M', '7.2M', '2.1M', '42M', '7.3M', '9.1M', '55M',\n",
              "       '23k', '6.5M', '1.5M', '7.5M', '51M', '41M', '48M', '8.5M', '46M',\n",
              "       '8.3M', '4.3M', '4.7M', '3.3M', '40M', '7.8M', '8.8M', '6.6M',\n",
              "       '5.1M', '61M', '66M', '79k', '8.4M', '118k', '44M', '695k', '1.6M',\n",
              "       '6.2M', '18k', '53M', '1.4M', '3.0M', '5.8M', '3.8M', '9.6M',\n",
              "       '45M', '63M', '49M', '77M', '4.4M', '4.8M', '70M', '6.9M', '9.3M',\n",
              "       '10.0M', '8.1M', '36M', '84M', '97M', '2.0M', '1.9M', '1.8M',\n",
              "       '5.3M', '47M', '556k', '526k', '76M', '7.6M', '59M', '9.7M', '78M',\n",
              "       '72M', '43M', '7.7M', '6.3M', '334k', '34M', '93M', '65M', '79M',\n",
              "       '100M', '58M', '50M', '68M', '64M', '67M', '60M', '94M', '232k',\n",
              "       '99M', '624k', '95M', '8.5k', '41k', '292k', '11k', '80M', '1.7M',\n",
              "       '74M', '62M', '69M', '75M', '98M', '85M', '82M', '96M', '87M',\n",
              "       '71M', '86M', '91M', '81M', '92M', '83M', '88M', '704k', '862k',\n",
              "       '899k', '378k', '266k', '375k', '1.3M', '975k', '980k', '4.1M',\n",
              "       '89M', '696k', '544k', '525k', '920k', '779k', '853k', '720k',\n",
              "       '713k', '772k', '318k', '58k', '241k', '196k', '857k', '51k',\n",
              "       '953k', '865k', '251k', '930k', '540k', '313k', '746k', '203k',\n",
              "       '26k', '314k', '239k', '371k', '220k', '730k', '756k', '91k',\n",
              "       '293k', '17k', '74k', '14k', '317k', '78k', '924k', '902k', '818k',\n",
              "       '81k', '939k', '169k', '45k', '475k', '965k', '90M', '545k', '61k',\n",
              "       '283k', '655k', '714k', '93k', '872k', '121k', '322k', '1.0M',\n",
              "       '976k', '172k', '238k', '549k', '206k', '954k', '444k', '717k',\n",
              "       '210k', '609k', '308k', '705k', '306k', '904k', '473k', '175k',\n",
              "       '350k', '383k', '454k', '421k', '70k', '812k', '442k', '842k',\n",
              "       '417k', '412k', '459k', '478k', '335k', '782k', '721k', '430k',\n",
              "       '429k', '192k', '200k', '460k', '728k', '496k', '816k', '414k',\n",
              "       '506k', '887k', '613k', '243k', '569k', '778k', '683k', '592k',\n",
              "       '319k', '186k', '840k', '647k', '191k', '373k', '437k', '598k',\n",
              "       '716k', '585k', '982k', '222k', '219k', '55k', '948k', '323k',\n",
              "       '691k', '511k', '951k', '963k', '25k', '554k', '351k', '27k',\n",
              "       '82k', '208k', '913k', '514k', '551k', '29k', '103k', '898k',\n",
              "       '743k', '116k', '153k', '209k', '353k', '499k', '173k', '597k',\n",
              "       '809k', '122k', '411k', '400k', '801k', '787k', '237k', '50k',\n",
              "       '643k', '986k', '97k', '516k', '837k', '780k', '961k', '269k',\n",
              "       '20k', '498k', '600k', '749k', '642k', '881k', '72k', '656k',\n",
              "       '601k', '221k', '228k', '108k', '940k', '176k', '33k', '663k',\n",
              "       '34k', '942k', '259k', '164k', '458k', '245k', '629k', '28k',\n",
              "       '288k', '775k', '785k', '636k', '916k', '994k', '309k', '485k',\n",
              "       '914k', '903k', '608k', '500k', '54k', '562k', '847k', '957k',\n",
              "       '688k', '811k', '270k', '48k', '329k', '523k', '921k', '874k',\n",
              "       '981k', '784k', '280k', '24k', '518k', '754k', '892k', '154k',\n",
              "       '860k', '364k', '387k', '626k', '161k', '879k', '39k', '970k',\n",
              "       '170k', '141k', '160k', '144k', '143k', '190k', '376k', '193k',\n",
              "       '246k', '73k', '658k', '992k', '253k', '420k', '404k', '1,000+',\n",
              "       '470k', '226k', '240k', '89k', '234k', '257k', '861k', '467k',\n",
              "       '157k', '44k', '676k', '67k', '552k', '885k', '1020k', '582k',\n",
              "       '619k'], dtype=object)"
            ]
          },
          "metadata": {},
          "execution_count": 23
        }
      ]
    },
    {
      "cell_type": "code",
      "source": [
        "play_store_data_df['Type'].unique()"
      ],
      "metadata": {
        "colab": {
          "base_uri": "https://localhost:8080/"
        },
        "id": "OAmAkqL9BIh5",
        "outputId": "73d2cc57-b313-40c1-a38d-db859c708ae2"
      },
      "execution_count": null,
      "outputs": [
        {
          "output_type": "execute_result",
          "data": {
            "text/plain": [
              "array(['Free', 'Paid', nan, '0'], dtype=object)"
            ]
          },
          "metadata": {},
          "execution_count": 24
        }
      ]
    },
    {
      "cell_type": "code",
      "source": [
        "play_store_data_df['Content_Rating'].unique()"
      ],
      "metadata": {
        "colab": {
          "base_uri": "https://localhost:8080/"
        },
        "id": "g-aMKLMaBFyJ",
        "outputId": "daec90bc-5e64-4201-a777-dbed41942345"
      },
      "execution_count": null,
      "outputs": [
        {
          "output_type": "execute_result",
          "data": {
            "text/plain": [
              "array(['Everyone', 'Teen', 'Everyone 10+', 'Mature 17+',\n",
              "       'Adults only 18+', 'Unrated', nan], dtype=object)"
            ]
          },
          "metadata": {},
          "execution_count": 25
        }
      ]
    },
    {
      "cell_type": "code",
      "source": [
        "play_store_data_df['Genres'].unique()"
      ],
      "metadata": {
        "colab": {
          "base_uri": "https://localhost:8080/"
        },
        "id": "oxcDB8_IDEIr",
        "outputId": "af204e38-47d0-4f8b-fe1a-284a07f6276a"
      },
      "execution_count": null,
      "outputs": [
        {
          "output_type": "execute_result",
          "data": {
            "text/plain": [
              "array(['Art & Design', 'Art & Design;Pretend Play',\n",
              "       'Art & Design;Creativity', 'Art & Design;Action & Adventure',\n",
              "       'Auto & Vehicles', 'Beauty', 'Books & Reference', 'Business',\n",
              "       'Comics', 'Comics;Creativity', 'Communication', 'Dating',\n",
              "       'Education;Education', 'Education', 'Education;Creativity',\n",
              "       'Education;Music & Video', 'Education;Action & Adventure',\n",
              "       'Education;Pretend Play', 'Education;Brain Games', 'Entertainment',\n",
              "       'Entertainment;Music & Video', 'Entertainment;Brain Games',\n",
              "       'Entertainment;Creativity', 'Events', 'Finance', 'Food & Drink',\n",
              "       'Health & Fitness', 'House & Home', 'Libraries & Demo',\n",
              "       'Lifestyle', 'Lifestyle;Pretend Play',\n",
              "       'Adventure;Action & Adventure', 'Arcade', 'Casual', 'Card',\n",
              "       'Casual;Pretend Play', 'Action', 'Strategy', 'Puzzle', 'Sports',\n",
              "       'Music', 'Word', 'Racing', 'Casual;Creativity',\n",
              "       'Casual;Action & Adventure', 'Simulation', 'Adventure', 'Board',\n",
              "       'Trivia', 'Role Playing', 'Simulation;Education',\n",
              "       'Action;Action & Adventure', 'Casual;Brain Games',\n",
              "       'Simulation;Action & Adventure', 'Educational;Creativity',\n",
              "       'Puzzle;Brain Games', 'Educational;Education', 'Card;Brain Games',\n",
              "       'Educational;Brain Games', 'Educational;Pretend Play',\n",
              "       'Entertainment;Education', 'Casual;Education',\n",
              "       'Music;Music & Video', 'Racing;Action & Adventure',\n",
              "       'Arcade;Pretend Play', 'Role Playing;Action & Adventure',\n",
              "       'Simulation;Pretend Play', 'Puzzle;Creativity',\n",
              "       'Sports;Action & Adventure', 'Educational;Action & Adventure',\n",
              "       'Arcade;Action & Adventure', 'Entertainment;Action & Adventure',\n",
              "       'Puzzle;Action & Adventure', 'Strategy;Action & Adventure',\n",
              "       'Music & Audio;Music & Video', 'Health & Fitness;Education',\n",
              "       'Adventure;Education', 'Board;Brain Games',\n",
              "       'Board;Action & Adventure', 'Board;Pretend Play',\n",
              "       'Casual;Music & Video', 'Role Playing;Pretend Play',\n",
              "       'Entertainment;Pretend Play', 'Video Players & Editors;Creativity',\n",
              "       'Card;Action & Adventure', 'Medical', 'Social', 'Shopping',\n",
              "       'Photography', 'Travel & Local',\n",
              "       'Travel & Local;Action & Adventure', 'Tools', 'Tools;Education',\n",
              "       'Personalization', 'Productivity', 'Parenting',\n",
              "       'Parenting;Music & Video', 'Parenting;Education',\n",
              "       'Parenting;Brain Games', 'Weather', 'Video Players & Editors',\n",
              "       'Video Players & Editors;Music & Video', 'News & Magazines',\n",
              "       'Maps & Navigation', 'Health & Fitness;Action & Adventure',\n",
              "       'Educational', 'Casino', 'Adventure;Brain Games',\n",
              "       'Trivia;Education', 'Lifestyle;Education',\n",
              "       'Books & Reference;Creativity', 'Books & Reference;Education',\n",
              "       'Puzzle;Education', 'Role Playing;Education',\n",
              "       'Role Playing;Brain Games', 'Strategy;Education',\n",
              "       'Racing;Pretend Play', 'Communication;Creativity',\n",
              "       'February 11, 2018', 'Strategy;Creativity'], dtype=object)"
            ]
          },
          "metadata": {},
          "execution_count": 26
        }
      ]
    },
    {
      "cell_type": "code",
      "source": [
        "play_store_data_df['Last_Updated'].unique()"
      ],
      "metadata": {
        "colab": {
          "base_uri": "https://localhost:8080/"
        },
        "id": "gOSlyX-FDGWR",
        "outputId": "0b2d32e0-71b2-4589-cb26-21ecfa006677"
      },
      "execution_count": null,
      "outputs": [
        {
          "output_type": "execute_result",
          "data": {
            "text/plain": [
              "array(['January 7, 2018', 'January 15, 2018', 'August 1, 2018', ...,\n",
              "       'January 20, 2014', 'February 16, 2014', 'March 23, 2014'],\n",
              "      dtype=object)"
            ]
          },
          "metadata": {},
          "execution_count": 27
        }
      ]
    },
    {
      "cell_type": "markdown",
      "source": [
        "###* Removing the duplicate values"
      ],
      "metadata": {
        "id": "mARCF0AB9X6K"
      }
    },
    {
      "cell_type": "code",
      "source": [
        "# Check for duplicate rows.\n",
        "play_store_data_df[play_store_data_df.duplicated()].count()"
      ],
      "metadata": {
        "colab": {
          "base_uri": "https://localhost:8080/"
        },
        "id": "lhUZ-03p4QcD",
        "outputId": "8da91d18-761c-4300-f7de-2218a588d969"
      },
      "execution_count": null,
      "outputs": [
        {
          "output_type": "execute_result",
          "data": {
            "text/plain": [
              "App               483\n",
              "Category          483\n",
              "Rating            474\n",
              "Reviews           483\n",
              "Size              483\n",
              "Installs          483\n",
              "Type              483\n",
              "Price             483\n",
              "Content_Rating    483\n",
              "Genres            483\n",
              "Last_Updated      483\n",
              "Current_Ver       483\n",
              "Android_Ver       483\n",
              "dtype: int64"
            ]
          },
          "metadata": {},
          "execution_count": 28
        }
      ]
    },
    {
      "cell_type": "code",
      "source": [
        "# To eliminate duplicate rows.\n",
        "play_store_data_df.drop_duplicates(subset='App',keep='last',inplace=True)"
      ],
      "metadata": {
        "id": "Htvbhj5l4RZM"
      },
      "execution_count": null,
      "outputs": []
    },
    {
      "cell_type": "code",
      "source": [
        "# Again Checking for duplicate rows.\n",
        "play_store_data_df[play_store_data_df.duplicated()].count()"
      ],
      "metadata": {
        "colab": {
          "base_uri": "https://localhost:8080/"
        },
        "id": "NSY8Mfin4Rj6",
        "outputId": "4a1da216-2c8c-4f8c-9551-44a58d7f3c17"
      },
      "execution_count": null,
      "outputs": [
        {
          "output_type": "execute_result",
          "data": {
            "text/plain": [
              "App               0\n",
              "Category          0\n",
              "Rating            0\n",
              "Reviews           0\n",
              "Size              0\n",
              "Installs          0\n",
              "Type              0\n",
              "Price             0\n",
              "Content_Rating    0\n",
              "Genres            0\n",
              "Last_Updated      0\n",
              "Current_Ver       0\n",
              "Android_Ver       0\n",
              "dtype: int64"
            ]
          },
          "metadata": {},
          "execution_count": 30
        }
      ]
    },
    {
      "cell_type": "markdown",
      "source": [
        "###* Removing the missing/NAN/Null values"
      ],
      "metadata": {
        "id": "mhMwqBuG9vaj"
      }
    },
    {
      "cell_type": "code",
      "source": [
        "# Information of data. \n",
        "play_store_data_df.info()"
      ],
      "metadata": {
        "colab": {
          "base_uri": "https://localhost:8080/"
        },
        "id": "A3VU4G414Rmt",
        "outputId": "27b28439-4413-40c7-ba75-31772991676e"
      },
      "execution_count": null,
      "outputs": [
        {
          "output_type": "stream",
          "name": "stdout",
          "text": [
            "<class 'pandas.core.frame.DataFrame'>\n",
            "Int64Index: 9660 entries, 0 to 10840\n",
            "Data columns (total 13 columns):\n",
            " #   Column          Non-Null Count  Dtype  \n",
            "---  ------          --------------  -----  \n",
            " 0   App             9660 non-null   object \n",
            " 1   Category        9660 non-null   object \n",
            " 2   Rating          8197 non-null   float64\n",
            " 3   Reviews         9660 non-null   object \n",
            " 4   Size            9660 non-null   object \n",
            " 5   Installs        9660 non-null   object \n",
            " 6   Type            9659 non-null   object \n",
            " 7   Price           9660 non-null   object \n",
            " 8   Content_Rating  9659 non-null   object \n",
            " 9   Genres          9660 non-null   object \n",
            " 10  Last_Updated    9660 non-null   object \n",
            " 11  Current_Ver     9652 non-null   object \n",
            " 12  Android_Ver     9657 non-null   object \n",
            "dtypes: float64(1), object(12)\n",
            "memory usage: 1.0+ MB\n"
          ]
        }
      ]
    },
    {
      "cell_type": "code",
      "source": [
        "# Get null/missing values count column wise.\n",
        "play_store_data_df.isnull().sum()"
      ],
      "metadata": {
        "colab": {
          "base_uri": "https://localhost:8080/"
        },
        "id": "xjD2lKuH4Rpb",
        "outputId": "fcf1e4d1-0569-4f6a-e790-9c1abf8b9d56"
      },
      "execution_count": null,
      "outputs": [
        {
          "output_type": "execute_result",
          "data": {
            "text/plain": [
              "App                  0\n",
              "Category             0\n",
              "Rating            1463\n",
              "Reviews              0\n",
              "Size                 0\n",
              "Installs             0\n",
              "Type                 1\n",
              "Price                0\n",
              "Content_Rating       1\n",
              "Genres               0\n",
              "Last_Updated         0\n",
              "Current_Ver          8\n",
              "Android_Ver          3\n",
              "dtype: int64"
            ]
          },
          "metadata": {},
          "execution_count": 32
        }
      ]
    },
    {
      "cell_type": "code",
      "source": [
        "# To know distribution of rating across different apps present in Play store dataframe.\n",
        "play_store_data_df.groupby(\"Rating\")['App'].count().plot(kind = \"area\")\n",
        "plt.xlabel(\"Rating\")\n",
        "plt.ylabel(\"Number Of Apps\")"
      ],
      "metadata": {
        "colab": {
          "base_uri": "https://localhost:8080/",
          "height": 296
        },
        "id": "Sn29sdRF4RxK",
        "outputId": "39cfcb81-ff2c-4d83-cb1a-25a4ac98c60a"
      },
      "execution_count": null,
      "outputs": [
        {
          "output_type": "execute_result",
          "data": {
            "text/plain": [
              "Text(0, 0.5, 'Number Of Apps')"
            ]
          },
          "metadata": {},
          "execution_count": 33
        },
        {
          "output_type": "display_data",
          "data": {
            "text/plain": [
              "<Figure size 432x288 with 1 Axes>"
            ],
            "image/png": "[encoded data removed]"
          },
          "metadata": {
            "needs_background": "light"
          }
        }
      ]
    },
    {
      "cell_type": "code",
      "source": [
        "# Droping the rows of current ver and android ver which contain null values.\n",
        "play_store_data_df.dropna(inplace=True,subset=['Current_Ver','Android_Ver','Content_Rating'])"
      ],
      "metadata": {
        "id": "Q7vl2v8yPWOZ"
      },
      "execution_count": null,
      "outputs": []
    },
    {
      "cell_type": "code",
      "source": [
        "# Instead of removing that row with the null/missing value we can replace it with Mode. (most frequently appeared value for that column)\n",
        "print(play_store_data_df['Type'].mode())\n",
        "play_store_data_df['Type'].fillna(str(play_store_data_df['Type'].mode().values[0]),inplace=True)"
      ],
      "metadata": {
        "colab": {
          "base_uri": "https://localhost:8080/"
        },
        "id": "_fZN0MdxC7xr",
        "outputId": "30861391-51b8-4ac0-de4b-96ca19d57123"
      },
      "execution_count": null,
      "outputs": [
        {
          "output_type": "stream",
          "name": "stdout",
          "text": [
            "0    Free\n",
            "dtype: object\n"
          ]
        }
      ]
    },
    {
      "cell_type": "code",
      "source": [
        "# Detecting outliers and then handling null values of rating coulmn.\n",
        "sns.boxplot(x='Rating',data=play_store_data_df)\n",
        "plt.show()"
      ],
      "metadata": {
        "colab": {
          "base_uri": "https://localhost:8080/",
          "height": 279
        },
        "id": "RwQqky9EC7uK",
        "outputId": "6976dd59-98fe-401f-da69-12e6493badca"
      },
      "execution_count": null,
      "outputs": [
        {
          "output_type": "display_data",
          "data": {
            "text/plain": [
              "<Figure size 432x288 with 1 Axes>"
            ],
            "image/png": "[encoded data removed]"
          },
          "metadata": {
            "needs_background": "light"
          }
        }
      ]
    },
    {
      "cell_type": "code",
      "source": [
        "# From boxplot there is no outliers in rating column. Replacing the null values of rating column with median.\n",
        "def inpute_median(series):\n",
        "  return series.fillna(series.median())"
      ],
      "metadata": {
        "id": "XfjlVLtQC7jF"
      },
      "execution_count": null,
      "outputs": []
    },
    {
      "cell_type": "code",
      "source": [
        "play_store_data_df.Rating = play_store_data_df['Rating'].transform(inpute_median)"
      ],
      "metadata": {
        "id": "ich8PXcGC7Zb"
      },
      "execution_count": null,
      "outputs": []
    },
    {
      "cell_type": "code",
      "source": [
        "# Checking the null/missing values.\n",
        "play_store_data_df.isnull().sum()"
      ],
      "metadata": {
        "colab": {
          "base_uri": "https://localhost:8080/"
        },
        "id": "LL-DMUliA3Qd",
        "outputId": "263c4af4-2c77-4e46-9313-cb1ef4e461f2"
      },
      "execution_count": null,
      "outputs": [
        {
          "output_type": "execute_result",
          "data": {
            "text/plain": [
              "App               0\n",
              "Category          0\n",
              "Rating            0\n",
              "Reviews           0\n",
              "Size              0\n",
              "Installs          0\n",
              "Type              0\n",
              "Price             0\n",
              "Content_Rating    0\n",
              "Genres            0\n",
              "Last_Updated      0\n",
              "Current_Ver       0\n",
              "Android_Ver       0\n",
              "dtype: int64"
            ]
          },
          "metadata": {},
          "execution_count": 39
        }
      ]
    }
  ]
}